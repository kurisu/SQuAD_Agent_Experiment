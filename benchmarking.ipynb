{
 "cells": [
  {
   "cell_type": "markdown",
   "metadata": {},
   "source": [
    "## Benchmarking Tool-using Agentic Approach\n",
    "\n",
    "* After exploring a variety of possible benchmarks, I decided to focus on SemScore, which is a semantic similarity metric. \n",
    "* The idea is to evaluate how well the agent can answer questions that are syntactically and semantically similar to the reference answers.\n",
    "* One challenge is that, because I chose to "
   ]
  },
  {
   "cell_type": "markdown",
   "metadata": {},
   "source": []
  },
  {
   "cell_type": "code",
   "execution_count": 1,
   "metadata": {},
   "outputs": [
    {
     "name": "stdout",
     "output_type": "stream",
     "text": [
      "Initializing Data...\n",
      "Download: True\n",
      "Loading data...\n",
      "Raw Data loaded\n",
      "Chroma DB already exists\n",
      "Loading index...\n",
      "Index loaded\n"
     ]
    }
   ],
   "source": [
    "import os\n",
    "import numpy as np\n",
    "import pandas as pd\n",
    "from transformers.agents import agent_types\n",
    "from tqdm.notebook import tqdm\n",
    "import logging\n",
    "from IPython.display import Markdown\n",
    "from semscore import EmbeddingModelWrapper\n",
    "from statistics import mean\n",
    "from agent import get_agent\n",
    "from dotenv import load_dotenv\n",
    "from prompts import SUCCINCT_SQUAD_REACT_CODE_SYSTEM_PROMPT, FOCUSED_SQUAD_REACT_CODE_SYSTEM_PROMPT\n",
    "\n",
    "load_dotenv()  # Load OPENAI_API_KEY from .env (not included in repo)\n",
    "\n",
    "SAMPLES_DIR = \"samples\"\n",
    "\n",
    "def display_text_df(df):\n",
    "    display(df.style.set_properties(**{'white-space': 'pre-wrap'}).set_table_styles(\n",
    "        [{'selector': 'th', 'props': [('text-align', 'left')]},\n",
    "         {'selector': 'td', 'props': [('text-align', 'left')]}\n",
    "        ]\n",
    "    ).hide())\n"
   ]
  },
  {
   "cell_type": "code",
   "execution_count": 2,
   "metadata": {},
   "outputs": [],
   "source": [
    "from data import get_data\n",
    "data = get_data(download=False)\n"
   ]
  },
  {
   "cell_type": "code",
   "execution_count": 3,
   "metadata": {},
   "outputs": [
    {
     "data": {
      "text/plain": [
       "(87599, 4)"
      ]
     },
     "execution_count": 3,
     "metadata": {},
     "output_type": "execute_result"
    }
   ],
   "source": [
    "data.df.shape"
   ]
  },
  {
   "cell_type": "code",
   "execution_count": 4,
   "metadata": {},
   "outputs": [
    {
     "data": {
      "text/html": [
       "<style type=\"text/css\">\n",
       "#T_8a599 th {\n",
       "  text-align: left;\n",
       "}\n",
       "#T_8a599 td {\n",
       "  text-align: left;\n",
       "}\n",
       "#T_8a599_row0_col0, #T_8a599_row0_col1, #T_8a599_row0_col2, #T_8a599_row0_col3, #T_8a599_row1_col0, #T_8a599_row1_col1, #T_8a599_row1_col2, #T_8a599_row1_col3, #T_8a599_row2_col0, #T_8a599_row2_col1, #T_8a599_row2_col2, #T_8a599_row2_col3 {\n",
       "  white-space: pre-wrap;\n",
       "}\n",
       "</style>\n",
       "<table id=\"T_8a599\">\n",
       "  <thead>\n",
       "    <tr>\n",
       "      <th id=\"T_8a599_level0_col0\" class=\"col_heading level0 col0\" >Title</th>\n",
       "      <th id=\"T_8a599_level0_col1\" class=\"col_heading level0 col1\" >Context</th>\n",
       "      <th id=\"T_8a599_level0_col2\" class=\"col_heading level0 col2\" >Question</th>\n",
       "      <th id=\"T_8a599_level0_col3\" class=\"col_heading level0 col3\" >Answer</th>\n",
       "    </tr>\n",
       "  </thead>\n",
       "  <tbody>\n",
       "    <tr>\n",
       "      <td id=\"T_8a599_row0_col0\" class=\"data row0 col0\" >University_of_Notre_Dame</td>\n",
       "      <td id=\"T_8a599_row0_col1\" class=\"data row0 col1\" >Architecturally, the school has a Catholic character. Atop the Main Building's gold dome is a golden statue of the Virgin Mary. Immediately in front of the Main Building and facing it, is a copper statue of Christ with arms upraised with the legend \"Venite Ad Me Omnes\". Next to the Main Building is the Basilica of the Sacred Heart. Immediately behind the basilica is the Grotto, a Marian place of prayer and reflection. It is a replica of the grotto at Lourdes, France where the Virgin Mary reputedly appeared to Saint Bernadette Soubirous in 1858. At the end of the main drive (and in a direct line that connects through 3 statues and the Gold Dome), is a simple, modern stone statue of Mary.</td>\n",
       "      <td id=\"T_8a599_row0_col2\" class=\"data row0 col2\" >To whom did the Virgin Mary allegedly appear in 1858 in Lourdes France?</td>\n",
       "      <td id=\"T_8a599_row0_col3\" class=\"data row0 col3\" >Saint Bernadette Soubirous</td>\n",
       "    </tr>\n",
       "    <tr>\n",
       "      <td id=\"T_8a599_row1_col0\" class=\"data row1 col0\" >University_of_Notre_Dame</td>\n",
       "      <td id=\"T_8a599_row1_col1\" class=\"data row1 col1\" >Architecturally, the school has a Catholic character. Atop the Main Building's gold dome is a golden statue of the Virgin Mary. Immediately in front of the Main Building and facing it, is a copper statue of Christ with arms upraised with the legend \"Venite Ad Me Omnes\". Next to the Main Building is the Basilica of the Sacred Heart. Immediately behind the basilica is the Grotto, a Marian place of prayer and reflection. It is a replica of the grotto at Lourdes, France where the Virgin Mary reputedly appeared to Saint Bernadette Soubirous in 1858. At the end of the main drive (and in a direct line that connects through 3 statues and the Gold Dome), is a simple, modern stone statue of Mary.</td>\n",
       "      <td id=\"T_8a599_row1_col2\" class=\"data row1 col2\" >What is in front of the Notre Dame Main Building?</td>\n",
       "      <td id=\"T_8a599_row1_col3\" class=\"data row1 col3\" >a copper statue of Christ</td>\n",
       "    </tr>\n",
       "    <tr>\n",
       "      <td id=\"T_8a599_row2_col0\" class=\"data row2 col0\" >University_of_Notre_Dame</td>\n",
       "      <td id=\"T_8a599_row2_col1\" class=\"data row2 col1\" >Architecturally, the school has a Catholic character. Atop the Main Building's gold dome is a golden statue of the Virgin Mary. Immediately in front of the Main Building and facing it, is a copper statue of Christ with arms upraised with the legend \"Venite Ad Me Omnes\". Next to the Main Building is the Basilica of the Sacred Heart. Immediately behind the basilica is the Grotto, a Marian place of prayer and reflection. It is a replica of the grotto at Lourdes, France where the Virgin Mary reputedly appeared to Saint Bernadette Soubirous in 1858. At the end of the main drive (and in a direct line that connects through 3 statues and the Gold Dome), is a simple, modern stone statue of Mary.</td>\n",
       "      <td id=\"T_8a599_row2_col2\" class=\"data row2 col2\" >The Basilica of the Sacred heart at Notre Dame is beside to which structure?</td>\n",
       "      <td id=\"T_8a599_row2_col3\" class=\"data row2 col3\" >the Main Building</td>\n",
       "    </tr>\n",
       "  </tbody>\n",
       "</table>\n"
      ],
      "text/plain": [
       "<pandas.io.formats.style.Styler at 0x17cefd340>"
      ]
     },
     "metadata": {},
     "output_type": "display_data"
    }
   ],
   "source": [
    "display_text_df(data.df.head(3))\n"
   ]
  },
  {
   "cell_type": "code",
   "execution_count": 17,
   "metadata": {},
   "outputs": [
    {
     "data": {
      "text/html": [
       "<style type=\"text/css\">\n",
       "#T_bb819 th {\n",
       "  text-align: left;\n",
       "}\n",
       "#T_bb819 td {\n",
       "  text-align: left;\n",
       "}\n",
       "#T_bb819_row0_col0, #T_bb819_row0_col1, #T_bb819_row0_col2, #T_bb819_row0_col3, #T_bb819_row1_col0, #T_bb819_row1_col1, #T_bb819_row1_col2, #T_bb819_row1_col3, #T_bb819_row2_col0, #T_bb819_row2_col1, #T_bb819_row2_col2, #T_bb819_row2_col3, #T_bb819_row3_col0, #T_bb819_row3_col1, #T_bb819_row3_col2, #T_bb819_row3_col3, #T_bb819_row4_col0, #T_bb819_row4_col1, #T_bb819_row4_col2, #T_bb819_row4_col3 {\n",
       "  white-space: pre-wrap;\n",
       "}\n",
       "</style>\n",
       "<table id=\"T_bb819\">\n",
       "  <thead>\n",
       "    <tr>\n",
       "      <th id=\"T_bb819_level0_col0\" class=\"col_heading level0 col0\" >Title</th>\n",
       "      <th id=\"T_bb819_level0_col1\" class=\"col_heading level0 col1\" >Context</th>\n",
       "      <th id=\"T_bb819_level0_col2\" class=\"col_heading level0 col2\" >Question</th>\n",
       "      <th id=\"T_bb819_level0_col3\" class=\"col_heading level0 col3\" >Answer</th>\n",
       "    </tr>\n",
       "  </thead>\n",
       "  <tbody>\n",
       "    <tr>\n",
       "      <td id=\"T_bb819_row0_col0\" class=\"data row0 col0\" >Institute_of_technology</td>\n",
       "      <td id=\"T_bb819_row0_col1\" class=\"data row0 col1\" >The world's first institution of technology or technical university with tertiary technical education is the Banská Akadémia in Banská Štiavnica, Slovakia, founded in 1735, Academy since December 13, 1762 established by queen Maria Theresa in order to train specialists of silver and gold mining and metallurgy in neighbourhood. Teaching started in 1764. Later the department of Mathematics, Mechanics and Hydraulics and department of Forestry were settled. University buildings are still at their place today and are used for teaching. University has launched the first book of electrotechnics in the world.</td>\n",
       "      <td id=\"T_bb819_row0_col2\" class=\"data row0 col2\" >What year was the Banská Akadémia founded?</td>\n",
       "      <td id=\"T_bb819_row0_col3\" class=\"data row0 col3\" >1735</td>\n",
       "    </tr>\n",
       "    <tr>\n",
       "      <td id=\"T_bb819_row1_col0\" class=\"data row1 col0\" >Film_speed</td>\n",
       "      <td id=\"T_bb819_row1_col1\" class=\"data row1 col1\" >The standard specifies how speed ratings should be reported by the camera. If the noise-based speed (40:1) is higher than the saturation-based speed, the noise-based speed should be reported, rounded downwards to a standard value (e.g. 200, 250, 320, or 400). The rationale is that exposure according to the lower saturation-based speed would not result in a visibly better image. In addition, an exposure latitude can be specified, ranging from the saturation-based speed to the 10:1 noise-based speed. If the noise-based speed (40:1) is lower than the saturation-based speed, or undefined because of high noise, the saturation-based speed is specified, rounded upwards to a standard value, because using the noise-based speed would lead to overexposed images. The camera may also report the SOS-based speed (explicitly as being an SOS speed), rounded to the nearest standard speed rating.</td>\n",
       "      <td id=\"T_bb819_row1_col2\" class=\"data row1 col2\" >What is another speed that can also be reported by the camera?</td>\n",
       "      <td id=\"T_bb819_row1_col3\" class=\"data row1 col3\" >SOS-based speed</td>\n",
       "    </tr>\n",
       "    <tr>\n",
       "      <td id=\"T_bb819_row2_col0\" class=\"data row2 col0\" >Sumer</td>\n",
       "      <td id=\"T_bb819_row2_col1\" class=\"data row2 col1\" >The most impressive and famous of Sumerian buildings are the ziggurats, large layered platforms which supported temples. Sumerian cylinder seals also depict houses built from reeds not unlike those built by the Marsh Arabs of Southern Iraq until as recently as 400 CE. The Sumerians also developed the arch, which enabled them to develop a strong type of dome. They built this by constructing and linking several arches. Sumerian temples and palaces made use of more advanced materials and techniques,[citation needed] such as buttresses, recesses, half columns, and clay nails.</td>\n",
       "      <td id=\"T_bb819_row2_col2\" class=\"data row2 col2\" >Where were the use of advanced materials and techniques on display in Sumer?</td>\n",
       "      <td id=\"T_bb819_row2_col3\" class=\"data row2 col3\" >Sumerian temples and palaces</td>\n",
       "    </tr>\n",
       "    <tr>\n",
       "      <td id=\"T_bb819_row3_col0\" class=\"data row3 col0\" >Ann_Arbor,_Michigan</td>\n",
       "      <td id=\"T_bb819_row3_col1\" class=\"data row3 col1\" >Ann Arbor has a council-manager form of government. The City Council has 11 voting members: the mayor and 10 city council members. The mayor and city council members serve two-year terms: the mayor is elected every even-numbered year, while half of the city council members are up for election annually (five in even-numbered and five in odd-numbered years). Two council members are elected from each of the city's five wards. The mayor is elected citywide. The mayor is the presiding officer of the City Council and has the power to appoint all Council committee members as well as board and commission members, with the approval of the City Council. The current mayor of Ann Arbor is Christopher Taylor, a Democrat who was elected as mayor in 2014. Day-to-day city operations are managed by a city administrator chosen by the city council.</td>\n",
       "      <td id=\"T_bb819_row3_col2\" class=\"data row3 col2\" >Who is elected every even numbered year?</td>\n",
       "      <td id=\"T_bb819_row3_col3\" class=\"data row3 col3\" >mayor</td>\n",
       "    </tr>\n",
       "    <tr>\n",
       "      <td id=\"T_bb819_row4_col0\" class=\"data row4 col0\" >John_von_Neumann</td>\n",
       "      <td id=\"T_bb819_row4_col1\" class=\"data row4 col1\" >Shortly before his death, when he was already quite ill, von Neumann headed the United States government's top secret ICBM committee, and it would sometimes meet in his home. Its purpose was to decide on the feasibility of building an ICBM large enough to carry a thermonuclear weapon. Von Neumann had long argued that while the technical obstacles were sizable, they could be overcome in time. The SM-65 Atlas passed its first fully functional test in 1959, two years after his death. The feasibility of an ICBM owed as much to improved, smaller warheads as it did to developments in rocketry, and his understanding of the former made his advice invaluable.</td>\n",
       "      <td id=\"T_bb819_row4_col2\" class=\"data row4 col2\" >What was the purpose of top secret ICBM committee?</td>\n",
       "      <td id=\"T_bb819_row4_col3\" class=\"data row4 col3\" >decide on the feasibility of building an ICBM large enough to carry a thermonuclear weapon</td>\n",
       "    </tr>\n",
       "  </tbody>\n",
       "</table>\n"
      ],
      "text/plain": [
       "<pandas.io.formats.style.Styler at 0x33a620fb0>"
      ]
     },
     "metadata": {},
     "output_type": "display_data"
    }
   ],
   "source": [
    "np.random.seed(42)\n",
    "# Select 10 random rows from data.df\n",
    "dfSample = data.df.sample(n=300)\n",
    "display_text_df(dfSample.head())"
   ]
  },
  {
   "cell_type": "code",
   "execution_count": 18,
   "metadata": {},
   "outputs": [],
   "source": [
    "# use local gpt to synthesize questions with context\n",
    "\n",
    "synth_system_prompt = \"\"\"\n",
    "You are an expert at clarifying what questions are really asking for.\n",
    "\n",
    "You will be given a question, a title and context.\n",
    "Your task is come up with a new version of the question that resolves ambiguities by adding only and exactly the necessary details from the title and context in a way that clarifies the question without changing the meaning or intent of the question.\n",
    "\n",
    "For example: \n",
    "Question: Who does M fight with?\n",
    "Title: Spectre_(2015_film)\n",
    "Context: Bond and Swann return to London where they meet M, Bill Tanner, Q, and Moneypenny; they intend to arrest C and stop Nine Eyes from going online. Swann leaves Bond, telling him she cannot be part of a life involving espionage, and is subsequently kidnapped. On the way, the group is ambushed and Bond is kidnapped, but the rest still proceed with the plan. After Q succeeds in preventing the Nine Eyes from going online, a brief struggle between M and C ends with the latter falling to his death. Meanwhile, Bond is taken to the old MI6 building, which is scheduled for demolition, and frees himself. Moving throughout the ruined labyrinth, he encounters a disfigured Blofeld, who tells him that he has three minutes to escape the building before explosives are detonated or die trying to save Swann. Bond finds Swann and the two escape by boat as the building collapses. Bond shoots down Blofeld's helicopter, which crashes onto Westminster Bridge. As Blofeld crawls away from the wreckage, Bond confronts him but ultimately leaves him to be arrested by M. Bond leaves the bridge with Swann.\n",
    "Response: Who does M struggle with during the events of Spectre (2015)?\n",
    "\"\"\"\n",
    "\n",
    "synth_user_prompt = \"\"\"\n",
    "Question: {question}\n",
    "Title: {title}\n",
    "Context: {context}\n",
    "\"\"\"\n"
   ]
  },
  {
   "cell_type": "code",
   "execution_count": null,
   "metadata": {},
   "outputs": [],
   "source": [
    "# Example: reuse your existing OpenAI setup\n",
    "from openai import OpenAI\n",
    "\n",
    "# Point to the local server\n",
    "# client = OpenAI(base_url=\"http://localhost:1234/v1\", api_key=\"lm-studio\")\n",
    "client = OpenAI()\n",
    "\n",
    "synth_answers = []\n",
    "for title, context, question, answer in tqdm(dfSample.values):\n",
    "    completion = client.chat.completions.create(\n",
    "    # model=\"lmstudio-community/Meta-Llama-3.1-8B-Instruct-GGUF\",\n",
    "    model=\"gpt-4o-mini-2024-07-18\",\n",
    "    messages=[\n",
    "        {\"role\": \"system\", \"content\": synth_system_prompt},\n",
    "        {\"role\": \"user\", \"content\": synth_user_prompt.format(question=question, title=title, context=context)}\n",
    "    ],\n",
    "    temperature=0.7,\n",
    "    )\n",
    "    synth_answers.append(completion.choices[0].message.content)\n",
    "\n",
    "dfSample[\"Synthesized Question\"] = synth_answers"
   ]
  },
  {
   "cell_type": "code",
   "execution_count": null,
   "metadata": {},
   "outputs": [],
   "source": [
    "os.makedirs(SAMPLES_DIR, exist_ok=True)\n",
    "dfSample.to_pickle(os.path.join(SAMPLES_DIR, f\"samples.pkl\"))    \n"
   ]
  },
  {
   "cell_type": "code",
   "execution_count": 48,
   "metadata": {},
   "outputs": [
    {
     "data": {
      "text/html": [
       "<style type=\"text/css\">\n",
       "#T_1d357 th {\n",
       "  text-align: left;\n",
       "}\n",
       "#T_1d357 td {\n",
       "  text-align: left;\n",
       "}\n",
       "#T_1d357_row0_col0, #T_1d357_row0_col1, #T_1d357_row0_col2, #T_1d357_row0_col3, #T_1d357_row0_col4, #T_1d357_row1_col0, #T_1d357_row1_col1, #T_1d357_row1_col2, #T_1d357_row1_col3, #T_1d357_row1_col4, #T_1d357_row2_col0, #T_1d357_row2_col1, #T_1d357_row2_col2, #T_1d357_row2_col3, #T_1d357_row2_col4, #T_1d357_row3_col0, #T_1d357_row3_col1, #T_1d357_row3_col2, #T_1d357_row3_col3, #T_1d357_row3_col4, #T_1d357_row4_col0, #T_1d357_row4_col1, #T_1d357_row4_col2, #T_1d357_row4_col3, #T_1d357_row4_col4 {\n",
       "  white-space: pre-wrap;\n",
       "}\n",
       "</style>\n",
       "<table id=\"T_1d357\">\n",
       "  <thead>\n",
       "    <tr>\n",
       "      <th id=\"T_1d357_level0_col0\" class=\"col_heading level0 col0\" >Title</th>\n",
       "      <th id=\"T_1d357_level0_col1\" class=\"col_heading level0 col1\" >Context</th>\n",
       "      <th id=\"T_1d357_level0_col2\" class=\"col_heading level0 col2\" >Question</th>\n",
       "      <th id=\"T_1d357_level0_col3\" class=\"col_heading level0 col3\" >Answer</th>\n",
       "      <th id=\"T_1d357_level0_col4\" class=\"col_heading level0 col4\" >Synthesized Question</th>\n",
       "    </tr>\n",
       "  </thead>\n",
       "  <tbody>\n",
       "    <tr>\n",
       "      <td id=\"T_1d357_row0_col0\" class=\"data row0 col0\" >Institute_of_technology</td>\n",
       "      <td id=\"T_1d357_row0_col1\" class=\"data row0 col1\" >The world's first institution of technology or technical university with tertiary technical education is the Banská Akadémia in Banská Štiavnica, Slovakia, founded in 1735, Academy since December 13, 1762 established by queen Maria Theresa in order to train specialists of silver and gold mining and metallurgy in neighbourhood. Teaching started in 1764. Later the department of Mathematics, Mechanics and Hydraulics and department of Forestry were settled. University buildings are still at their place today and are used for teaching. University has launched the first book of electrotechnics in the world.</td>\n",
       "      <td id=\"T_1d357_row0_col2\" class=\"data row0 col2\" >What year was the Banská Akadémia founded?</td>\n",
       "      <td id=\"T_1d357_row0_col3\" class=\"data row0 col3\" >1735</td>\n",
       "      <td id=\"T_1d357_row0_col4\" class=\"data row0 col4\" >What year was the Banská Akadémia, the world's first institution of technology, founded in Banská Štiavnica, Slovakia?</td>\n",
       "    </tr>\n",
       "    <tr>\n",
       "      <td id=\"T_1d357_row1_col0\" class=\"data row1 col0\" >Film_speed</td>\n",
       "      <td id=\"T_1d357_row1_col1\" class=\"data row1 col1\" >The standard specifies how speed ratings should be reported by the camera. If the noise-based speed (40:1) is higher than the saturation-based speed, the noise-based speed should be reported, rounded downwards to a standard value (e.g. 200, 250, 320, or 400). The rationale is that exposure according to the lower saturation-based speed would not result in a visibly better image. In addition, an exposure latitude can be specified, ranging from the saturation-based speed to the 10:1 noise-based speed. If the noise-based speed (40:1) is lower than the saturation-based speed, or undefined because of high noise, the saturation-based speed is specified, rounded upwards to a standard value, because using the noise-based speed would lead to overexposed images. The camera may also report the SOS-based speed (explicitly as being an SOS speed), rounded to the nearest standard speed rating.</td>\n",
       "      <td id=\"T_1d357_row1_col2\" class=\"data row1 col2\" >What is another speed that can also be reported by the camera?</td>\n",
       "      <td id=\"T_1d357_row1_col3\" class=\"data row1 col3\" >SOS-based speed</td>\n",
       "      <td id=\"T_1d357_row1_col4\" class=\"data row1 col4\" >What is another speed rating that can also be reported by the camera in addition to the noise-based and saturation-based speeds?</td>\n",
       "    </tr>\n",
       "    <tr>\n",
       "      <td id=\"T_1d357_row2_col0\" class=\"data row2 col0\" >Sumer</td>\n",
       "      <td id=\"T_1d357_row2_col1\" class=\"data row2 col1\" >The most impressive and famous of Sumerian buildings are the ziggurats, large layered platforms which supported temples. Sumerian cylinder seals also depict houses built from reeds not unlike those built by the Marsh Arabs of Southern Iraq until as recently as 400 CE. The Sumerians also developed the arch, which enabled them to develop a strong type of dome. They built this by constructing and linking several arches. Sumerian temples and palaces made use of more advanced materials and techniques,[citation needed] such as buttresses, recesses, half columns, and clay nails.</td>\n",
       "      <td id=\"T_1d357_row2_col2\" class=\"data row2 col2\" >Where were the use of advanced materials and techniques on display in Sumer?</td>\n",
       "      <td id=\"T_1d357_row2_col3\" class=\"data row2 col3\" >Sumerian temples and palaces</td>\n",
       "      <td id=\"T_1d357_row2_col4\" class=\"data row2 col4\" >Where were the advanced materials and techniques, such as buttresses and arches, used in Sumerian temples and palaces on display?</td>\n",
       "    </tr>\n",
       "    <tr>\n",
       "      <td id=\"T_1d357_row3_col0\" class=\"data row3 col0\" >Ann_Arbor,_Michigan</td>\n",
       "      <td id=\"T_1d357_row3_col1\" class=\"data row3 col1\" >Ann Arbor has a council-manager form of government. The City Council has 11 voting members: the mayor and 10 city council members. The mayor and city council members serve two-year terms: the mayor is elected every even-numbered year, while half of the city council members are up for election annually (five in even-numbered and five in odd-numbered years). Two council members are elected from each of the city's five wards. The mayor is elected citywide. The mayor is the presiding officer of the City Council and has the power to appoint all Council committee members as well as board and commission members, with the approval of the City Council. The current mayor of Ann Arbor is Christopher Taylor, a Democrat who was elected as mayor in 2014. Day-to-day city operations are managed by a city administrator chosen by the city council.</td>\n",
       "      <td id=\"T_1d357_row3_col2\" class=\"data row3 col2\" >Who is elected every even numbered year?</td>\n",
       "      <td id=\"T_1d357_row3_col3\" class=\"data row3 col3\" >mayor</td>\n",
       "      <td id=\"T_1d357_row3_col4\" class=\"data row3 col4\" >Who is elected as mayor every even-numbered year in Ann Arbor, Michigan?</td>\n",
       "    </tr>\n",
       "    <tr>\n",
       "      <td id=\"T_1d357_row4_col0\" class=\"data row4 col0\" >John_von_Neumann</td>\n",
       "      <td id=\"T_1d357_row4_col1\" class=\"data row4 col1\" >Shortly before his death, when he was already quite ill, von Neumann headed the United States government's top secret ICBM committee, and it would sometimes meet in his home. Its purpose was to decide on the feasibility of building an ICBM large enough to carry a thermonuclear weapon. Von Neumann had long argued that while the technical obstacles were sizable, they could be overcome in time. The SM-65 Atlas passed its first fully functional test in 1959, two years after his death. The feasibility of an ICBM owed as much to improved, smaller warheads as it did to developments in rocketry, and his understanding of the former made his advice invaluable.</td>\n",
       "      <td id=\"T_1d357_row4_col2\" class=\"data row4 col2\" >What was the purpose of top secret ICBM committee?</td>\n",
       "      <td id=\"T_1d357_row4_col3\" class=\"data row4 col3\" >decide on the feasibility of building an ICBM large enough to carry a thermonuclear weapon</td>\n",
       "      <td id=\"T_1d357_row4_col4\" class=\"data row4 col4\" >What was the purpose of the top secret ICBM committee headed by John von Neumann shortly before his death?</td>\n",
       "    </tr>\n",
       "  </tbody>\n",
       "</table>\n"
      ],
      "text/plain": [
       "<pandas.io.formats.style.Styler at 0x3ba30f170>"
      ]
     },
     "metadata": {},
     "output_type": "display_data"
    },
    {
     "data": {
      "text/plain": [
       "(100, 5)"
      ]
     },
     "execution_count": 48,
     "metadata": {},
     "output_type": "execute_result"
    }
   ],
   "source": [
    "dfSample = pd.read_pickle(os.path.join(SAMPLES_DIR, f\"samples.pkl\"))\n",
    "display_text_df(dfSample.head())\n",
    "dfSample.shape"
   ]
  },
  {
   "cell_type": "code",
   "execution_count": 9,
   "metadata": {},
   "outputs": [
    {
     "name": "stderr",
     "output_type": "stream",
     "text": [
      "\u001b[32;20;1m======== New task ========\u001b[0m\n",
      "\u001b[37;1mWhat year was the Banská Akadémia, the world's first institution of technology, founded in Banská Štiavnica, Slovakia?\u001b[0m\n",
      "\u001b[33;1m=== Agent thoughts:\u001b[0m\n",
      "\u001b[0mThought: I will use the squad_retriever tool to find the founding year of the Banská Akadémia, which is known as the world's first institution of technology located in Banská Štiavnica, Slovakia. I will craft a detailed query to ensure I retrieve the most relevant information.\u001b[0m\n",
      "\u001b[33;1m>>> Agent is executing the code below:\u001b[0m\n",
      "\u001b[0m\u001b[38;5;7manswer\u001b[39m\u001b[38;5;7m \u001b[39m\u001b[38;5;109;01m=\u001b[39;00m\u001b[38;5;7m \u001b[39m\u001b[38;5;7msquad_retriever\u001b[39m\u001b[38;5;7m(\u001b[39m\u001b[38;5;7mquery\u001b[39m\u001b[38;5;109;01m=\u001b[39;00m\u001b[38;5;144m\"\u001b[39m\u001b[38;5;144mWhat year was the Banská Akadémia, the world\u001b[39m\u001b[38;5;144m'\u001b[39m\u001b[38;5;144ms first institution of technology, founded in Banská Štiavnica, Slovakia?\u001b[39m\u001b[38;5;144m\"\u001b[39m\u001b[38;5;7m)\u001b[39m\n",
      "\u001b[38;5;109mprint\u001b[39m\u001b[38;5;7m(\u001b[39m\u001b[38;5;7manswer\u001b[39m\u001b[38;5;7m)\u001b[39m\u001b[0m\n",
      "\u001b[33;1m====\u001b[0m\n",
      "\u001b[33;1mPrint outputs:\u001b[0m\n",
      "\u001b[32;20m===Document===\n",
      "Title: Institute_of_technology\n",
      "Context: The world's first institution of technology or technical university with tertiary technical education is the Banská Akadémia in Banská Štiavnica, Slovakia, founded in 1735, Academy since December 13, 1762 established by queen Maria Theresa in order to train specialists of silver and gold mining and metallurgy in neighbourhood. Teaching started in 1764. Later the department of Mathematics, Mechanics and Hydraulics and department of Forestry were settled. University buildings are still at their place today and are used for teaching. University has launched the first book of electrotechnics in the world.\n",
      "Question: What year was the Banská Akadémia founded?\n",
      "Acceptable Answers:\n",
      "['1. 1735']\n",
      "Score: 0.8756514910949876\n",
      "===Document===\n",
      "Title: Institute_of_technology\n",
      "Context: The world's first institution of technology or technical university with tertiary technical education is the Banská Akadémia in Banská Štiavnica, Slovakia, founded in 1735, Academy since December 13, 1762 established by queen Maria Theresa in order to train specialists of silver and gold mining and metallurgy in neighbourhood. Teaching started in 1764. Later the department of Mathematics, Mechanics and Hydraulics and department of Forestry were settled. University buildings are still at their place today and are used for teaching. University has launched the first book of electrotechnics in the world.\n",
      "Question: What year did teaching start at the Banská Akadémia?\n",
      "Acceptable Answers:\n",
      "['1. 1764']\n",
      "Score: 0.8678412986560574\n",
      "\u001b[0m\n",
      "\u001b[33;1m=== Agent thoughts:\u001b[0m\n",
      "\u001b[0mThought: From the information retrieved, I learned that the Banská Akadémia was founded in the year 1735. I will now use this information to provide the final answer.\u001b[0m\n",
      "\u001b[33;1m>>> Agent is executing the code below:\u001b[0m\n",
      "\u001b[0m\u001b[38;5;7mfinal_answer\u001b[39m\u001b[38;5;7m(\u001b[39m\u001b[38;5;144m\"\u001b[39m\u001b[38;5;144mThe Banská Akadémia, the world\u001b[39m\u001b[38;5;144m'\u001b[39m\u001b[38;5;144ms first institution of technology, was founded in 1735.\u001b[39m\u001b[38;5;144m\"\u001b[39m\u001b[38;5;7m)\u001b[39m\u001b[0m\n",
      "\u001b[33;1m====\u001b[0m\n",
      "\u001b[33;1mPrint outputs:\u001b[0m\n",
      "\u001b[32;20m\u001b[0m\n",
      "\u001b[33;1mLast output from code snippet:\u001b[0m\n",
      "\u001b[32;20mThe Banská Akadémia, the world's first institution of technology, was founded in 1735.\u001b[0m\n",
      "\u001b[32;20;1mFinal answer:\u001b[0m\n",
      "\u001b[32;20mThe Banská Akadémia, the world's first institution of technology, was founded in 1735.\u001b[0m\n"
     ]
    },
    {
     "data": {
      "text/plain": [
       "\"The Banská Akadémia, the world's first institution of technology, was founded in 1735.\""
      ]
     },
     "execution_count": 9,
     "metadata": {},
     "output_type": "execute_result"
    }
   ],
   "source": [
    "prompt = \"What year was the Banská Akadémia, the world's first institution of technology, founded in Banská Štiavnica, Slovakia?\"\n",
    "agent = get_agent()\n",
    "agent.run(prompt, stream=False, reset=True)\n"
   ]
  },
  {
   "cell_type": "markdown",
   "metadata": {},
   "source": [
    "### Create the agent to be evaluated"
   ]
  },
  {
   "cell_type": "markdown",
   "metadata": {},
   "source": [
    "### Run the agent on the random sample of questions\n",
    "\n",
    "* Unlike the default Retrieval QA or Open Generative QA of SQuAD, in our use case, the agent would normally be given context in the course of a natural conversation, as the user elaborates on what they want to know. \n",
    "* Therefore, for benchmarking, we will provide the context to answer the question in the prompt.\n",
    "\n",
    "### Use semantic similarity to evaluate the agent's answers against the reference answers\n",
    "\n",
    "* One flaw of this approach is that it does not take into account the existence of multiple acceptable answers.\n",
    "* Another flaw is that the agent me be unfairly penalized for elaborating on the answer, while this benchmark focuses on only and exactly the one canonical answer given.\n"
   ]
  },
  {
   "cell_type": "code",
   "execution_count": 49,
   "metadata": {},
   "outputs": [],
   "source": [
    "BENCHMARKS_DIR = \"benchmarks\"\n",
    "\n",
    "import re\n",
    "from string import punctuation\n",
    "from nltk.corpus import stopwords\n",
    "\n",
    "STOP_WORDS = set(stopwords.words('english'))\n",
    "\n",
    "def clean_text(text):\n",
    "    # Lowercase\n",
    "    text = text.lower()\n",
    "    # Remove punctuation\n",
    "    text = text.translate(str.maketrans(\"\", \"\", punctuation))\n",
    "    # Remove stop words\n",
    "    text = \" \".join([word for word in text.split() if word not in STOP_WORDS])\n",
    "    return text\n",
    "\n",
    "def benchmark_agent(agent, dfSample, name):\n",
    "    answers_ref, answers_pred = [], []        \n",
    "\n",
    "    # Suppress logging from the agent, which can be quite verbose\n",
    "    agent.logger.setLevel(logging.CRITICAL)\n",
    "\n",
    "    for title, context, question, answer, synthesized_question in tqdm(dfSample.values):\n",
    "        class Output:\n",
    "            output: agent_types.AgentType | str = None\n",
    "\n",
    "        prompt = synthesized_question\n",
    "        answers_ref.append(answer)\n",
    "        final_answer = agent.run(prompt, stream=False, reset=True)\n",
    "        answers_pred.append(final_answer)\n",
    "\n",
    "    answers_ref = [str(answer) for answer in answers_ref]\n",
    "    answers_pred = [str(answer) for answer in answers_pred]\n",
    "\n",
    "    # Remove stop words and punctuation from answers\n",
    "    answers_ref = [clean_text(answer) for answer in answers_ref]\n",
    "    answers_pred = [clean_text(answer) for answer in answers_pred]\n",
    "\n",
    "    em = EmbeddingModelWrapper()\n",
    "    similarities = em.get_similarities(\n",
    "        em.get_embeddings( answers_pred ),\n",
    "        em.get_embeddings( answers_ref ),\n",
    "    )\n",
    "\n",
    "    dfAnswers = dfSample.copy()\n",
    "    dfAnswers[\"Predicted Answer\"] = answers_pred\n",
    "    dfAnswers[\"Similarity\"] = similarities\n",
    "\n",
    "    os.makedirs(BENCHMARKS_DIR, exist_ok=True)\n",
    "    dfAnswers.to_pickle(os.path.join(BENCHMARKS_DIR, f\"{name}.pkl\"))\n"
   ]
  },
  {
   "cell_type": "markdown",
   "metadata": {},
   "source": [
    "### Set up and run the benchmarks"
   ]
  },
  {
   "cell_type": "code",
   "execution_count": 50,
   "metadata": {},
   "outputs": [
    {
     "data": {
      "application/vnd.jupyter.widget-view+json": {
       "model_id": "3681f1eb68ab462fbe06b7000bb34249",
       "version_major": 2,
       "version_minor": 0
      },
      "text/plain": [
       "  0%|          | 0/3 [00:00<?, ?it/s]"
      ]
     },
     "metadata": {},
     "output_type": "display_data"
    },
    {
     "data": {
      "application/vnd.jupyter.widget-view+json": {
       "model_id": "6c10061dff7b454e9b447fdd83a1100a",
       "version_major": 2,
       "version_minor": 0
      },
      "text/plain": [
       "  0%|          | 0/100 [00:00<?, ?it/s]"
      ]
     },
     "metadata": {},
     "output_type": "display_data"
    },
    {
     "data": {
      "application/vnd.jupyter.widget-view+json": {
       "model_id": "6d9ad710dd1f4474864d6f0d8885d768",
       "version_major": 2,
       "version_minor": 0
      },
      "text/plain": [
       "  0%|          | 0/100 [00:00<?, ?it/s]"
      ]
     },
     "metadata": {},
     "output_type": "display_data"
    },
    {
     "data": {
      "application/vnd.jupyter.widget-view+json": {
       "model_id": "4588847162b344da9fc6524006b42b93",
       "version_major": 2,
       "version_minor": 0
      },
      "text/plain": [
       "  0%|          | 0/100 [00:00<?, ?it/s]"
      ]
     },
     "metadata": {},
     "output_type": "display_data"
    }
   ],
   "source": [
    "benchmarks = [\n",
    "    (get_agent(), \"baseline\"), # Baseline agent with default settings\n",
    "    (get_agent(system_prompt=SUCCINCT_SQUAD_REACT_CODE_SYSTEM_PROMPT), \"succinct\"), # Succinct agent\n",
    "    (get_agent(system_prompt=FOCUSED_SQUAD_REACT_CODE_SYSTEM_PROMPT), \"focused\"), # Focused agent\n",
    "]\n",
    "\n",
    "for agent, name in tqdm(benchmarks):\n",
    "    benchmark_agent(agent, dfSample, name)"
   ]
  },
  {
   "cell_type": "code",
   "execution_count": 51,
   "metadata": {},
   "outputs": [
    {
     "data": {
      "text/markdown": [
       "## baseline"
      ],
      "text/plain": [
       "<IPython.core.display.Markdown object>"
      ]
     },
     "metadata": {},
     "output_type": "display_data"
    },
    {
     "data": {
      "text/markdown": [
       "#### Mean similarity: 0.48"
      ],
      "text/plain": [
       "<IPython.core.display.Markdown object>"
      ]
     },
     "metadata": {},
     "output_type": "display_data"
    },
    {
     "data": {
      "text/markdown": [
       "#### Number of rows with similarity score less than 0.9: 98"
      ],
      "text/plain": [
       "<IPython.core.display.Markdown object>"
      ]
     },
     "metadata": {},
     "output_type": "display_data"
    },
    {
     "data": {
      "text/markdown": [
       "#### Root Mean Squared Error: 0.57"
      ],
      "text/plain": [
       "<IPython.core.display.Markdown object>"
      ]
     },
     "metadata": {},
     "output_type": "display_data"
    },
    {
     "data": {
      "text/markdown": [
       "#### Root Mean Squared Log Error: 0.44"
      ],
      "text/plain": [
       "<IPython.core.display.Markdown object>"
      ]
     },
     "metadata": {},
     "output_type": "display_data"
    },
    {
     "data": {
      "text/markdown": [
       "## succinct"
      ],
      "text/plain": [
       "<IPython.core.display.Markdown object>"
      ]
     },
     "metadata": {},
     "output_type": "display_data"
    },
    {
     "data": {
      "text/markdown": [
       "#### Mean similarity: 0.83"
      ],
      "text/plain": [
       "<IPython.core.display.Markdown object>"
      ]
     },
     "metadata": {},
     "output_type": "display_data"
    },
    {
     "data": {
      "text/markdown": [
       "#### Number of rows with similarity score less than 0.9: 37"
      ],
      "text/plain": [
       "<IPython.core.display.Markdown object>"
      ]
     },
     "metadata": {},
     "output_type": "display_data"
    },
    {
     "data": {
      "text/markdown": [
       "#### Root Mean Squared Error: 0.31"
      ],
      "text/plain": [
       "<IPython.core.display.Markdown object>"
      ]
     },
     "metadata": {},
     "output_type": "display_data"
    },
    {
     "data": {
      "text/markdown": [
       "#### Root Mean Squared Log Error: 0.24"
      ],
      "text/plain": [
       "<IPython.core.display.Markdown object>"
      ]
     },
     "metadata": {},
     "output_type": "display_data"
    },
    {
     "data": {
      "text/markdown": [
       "## focused"
      ],
      "text/plain": [
       "<IPython.core.display.Markdown object>"
      ]
     },
     "metadata": {},
     "output_type": "display_data"
    },
    {
     "data": {
      "text/markdown": [
       "#### Mean similarity: 0.86"
      ],
      "text/plain": [
       "<IPython.core.display.Markdown object>"
      ]
     },
     "metadata": {},
     "output_type": "display_data"
    },
    {
     "data": {
      "text/markdown": [
       "#### Number of rows with similarity score less than 0.9: 31"
      ],
      "text/plain": [
       "<IPython.core.display.Markdown object>"
      ]
     },
     "metadata": {},
     "output_type": "display_data"
    },
    {
     "data": {
      "text/markdown": [
       "#### Root Mean Squared Error: 0.27"
      ],
      "text/plain": [
       "<IPython.core.display.Markdown object>"
      ]
     },
     "metadata": {},
     "output_type": "display_data"
    },
    {
     "data": {
      "text/markdown": [
       "#### Root Mean Squared Log Error: 0.21"
      ],
      "text/plain": [
       "<IPython.core.display.Markdown object>"
      ]
     },
     "metadata": {},
     "output_type": "display_data"
    }
   ],
   "source": [
    "# Load and display all benchmarks\n",
    "def load_benchmarks():\n",
    "    benchmarks_dir = \"benchmarks\"\n",
    "    benchmarks = []\n",
    "    for file in os.listdir(benchmarks_dir):\n",
    "        if file.endswith(\".pkl\"):\n",
    "            df = pd.read_pickle(os.path.join(benchmarks_dir, file))\n",
    "            benchmarks.append({\n",
    "                'name': file.replace(\".pkl\", \"\"),\n",
    "                'data': df, \n",
    "            })\n",
    "    return benchmarks\n",
    "\n",
    "benchmarks = load_benchmarks()\n",
    "\n",
    "# Add mean similarity to each benchmark\n",
    "for benchmark in benchmarks:\n",
    "    benchmark['mean_similarity'] = benchmark['data']['Similarity'].mean()\n",
    "\n",
    "# Sort benchmarks by mean similarity\n",
    "benchmarks.sort(key=lambda x: x['mean_similarity'], reverse=False)\n",
    "\n",
    "from sklearn.metrics import roc_curve\n",
    "for benchmark in benchmarks:\n",
    "    display(Markdown(f\"## {benchmark['name']}\"))\n",
    "    display(Markdown(f\"#### Mean similarity: {round(benchmark['mean_similarity'], 2)}\"))\n",
    "\n",
    "    # Count the number of rows where the similarity score is less than 0.9\n",
    "    num_low_similarity = len(benchmark['data'][benchmark['data']['Similarity'] < 0.9])\n",
    "    display(Markdown(f\"#### Number of rows with similarity score less than 0.9: {num_low_similarity}\"))\n",
    "    # df = benchmark['data'][benchmark['data']['Similarity'] < 0.9]\n",
    "    # display_text_df(df[['Synthesized Question', 'Answer', 'Predicted Answer', 'Similarity']])\n",
    "\n",
    "    # For thresholds from 0.5 to 0.99, count the number of rows where the similarity score is less than the threshold\n",
    "    thresholds = np.arange(0.1, 0.9, 0.01)\n",
    "    num_rows_below_threshold = []\n",
    "    for threshold in thresholds:\n",
    "        num_rows_below_threshold.append(len(benchmark['data'][benchmark['data']['Similarity'] < threshold]))\n",
    "    benchmark['num_rows_below_threshold'] = num_rows_below_threshold\n",
    "\n",
    "    # Considering 1-Similarity as error\n",
    "    error = 1 - benchmark['data']['Similarity']\n",
    "    # Calculate Root Mean Squared Error(RMSE)\n",
    "    rmse = np.sqrt(np.mean(np.square(error)))\n",
    "    display(Markdown(f\"#### Root Mean Squared Error: {round(rmse, 2)}\"))\n",
    "    # Calculate Root Mean Squared Log Error(RMSLE)\n",
    "    rmsle = np.sqrt(np.mean(np.square(np.log1p(error))))\n",
    "    display(Markdown(f\"#### Root Mean Squared Log Error: {round(rmsle, 2)}\"))"
   ]
  },
  {
   "cell_type": "code",
   "execution_count": 53,
   "metadata": {},
   "outputs": [
    {
     "data": {
      "image/png": "[encoded data removed]",
      "text/plain": [
       "<Figure size 640x480 with 1 Axes>"
      ]
     },
     "metadata": {},
     "output_type": "display_data"
    }
   ],
   "source": [
    "# Plot the number of rows below each threshold, for each benchmark on the same plot\n",
    "import matplotlib.pyplot as plt\n",
    "for benchmark in benchmarks:\n",
    "    plt.plot(thresholds, benchmark['num_rows_below_threshold'], label=benchmark['name'])\n",
    "plt.xlabel('Threshold')\n",
    "plt.ylabel('Number of answers with semantic similarity score less than threshold')\n",
    "plt.legend()\n",
    "plt.show()\n"
   ]
  },
  {
   "cell_type": "code",
   "execution_count": 56,
   "metadata": {},
   "outputs": [
    {
     "data": {
      "text/markdown": [
       "## Worse scoring answers for baseline"
      ],
      "text/plain": [
       "<IPython.core.display.Markdown object>"
      ]
     },
     "metadata": {},
     "output_type": "display_data"
    },
    {
     "data": {
      "text/html": [
       "<style type=\"text/css\">\n",
       "#T_1a46b th {\n",
       "  text-align: left;\n",
       "}\n",
       "#T_1a46b td {\n",
       "  text-align: left;\n",
       "}\n",
       "#T_1a46b_row0_col0, #T_1a46b_row0_col1, #T_1a46b_row0_col2, #T_1a46b_row0_col3, #T_1a46b_row1_col0, #T_1a46b_row1_col1, #T_1a46b_row1_col2, #T_1a46b_row1_col3, #T_1a46b_row2_col0, #T_1a46b_row2_col1, #T_1a46b_row2_col2, #T_1a46b_row2_col3, #T_1a46b_row3_col0, #T_1a46b_row3_col1, #T_1a46b_row3_col2, #T_1a46b_row3_col3, #T_1a46b_row4_col0, #T_1a46b_row4_col1, #T_1a46b_row4_col2, #T_1a46b_row4_col3, #T_1a46b_row5_col0, #T_1a46b_row5_col1, #T_1a46b_row5_col2, #T_1a46b_row5_col3, #T_1a46b_row6_col0, #T_1a46b_row6_col1, #T_1a46b_row6_col2, #T_1a46b_row6_col3, #T_1a46b_row7_col0, #T_1a46b_row7_col1, #T_1a46b_row7_col2, #T_1a46b_row7_col3, #T_1a46b_row8_col0, #T_1a46b_row8_col1, #T_1a46b_row8_col2, #T_1a46b_row8_col3, #T_1a46b_row9_col0, #T_1a46b_row9_col1, #T_1a46b_row9_col2, #T_1a46b_row9_col3 {\n",
       "  white-space: pre-wrap;\n",
       "}\n",
       "</style>\n",
       "<table id=\"T_1a46b\">\n",
       "  <thead>\n",
       "    <tr>\n",
       "      <th id=\"T_1a46b_level0_col0\" class=\"col_heading level0 col0\" >Synthesized Question</th>\n",
       "      <th id=\"T_1a46b_level0_col1\" class=\"col_heading level0 col1\" >Cleaned Answer</th>\n",
       "      <th id=\"T_1a46b_level0_col2\" class=\"col_heading level0 col2\" >Cleaned Predicted Answer</th>\n",
       "      <th id=\"T_1a46b_level0_col3\" class=\"col_heading level0 col3\" >Similarity</th>\n",
       "    </tr>\n",
       "  </thead>\n",
       "  <tbody>\n",
       "    <tr>\n",
       "      <td id=\"T_1a46b_row0_col0\" class=\"data row0 col0\" >How many species of fungi, both non-lichen-forming and lichen-forming, have been recorded in Antarctica?</td>\n",
       "      <td id=\"T_1a46b_row0_col1\" class=\"data row0 col1\" >1150</td>\n",
       "      <td id=\"T_1a46b_row0_col2\" class=\"data row0 col2\" >1150 species fungi recorded antarctica including approximately 750 nonlichenforming 400 lichenforming species</td>\n",
       "      <td id=\"T_1a46b_row0_col3\" class=\"data row0 col3\" >-0.037171</td>\n",
       "    </tr>\n",
       "    <tr>\n",
       "      <td id=\"T_1a46b_row1_col0\" class=\"data row1 col0\" >What fraction of the South Florida population lives in the city of Miami, given that it is home to less than one-thirteenth of the population of South Florida?</td>\n",
       "      <td id=\"T_1a46b_row1_col1\" class=\"data row1 col1\" >one-thirteenth</td>\n",
       "      <td id=\"T_1a46b_row1_col2\" class=\"data row1 col2\" >fraction south florida population lives city miami less 113</td>\n",
       "      <td id=\"T_1a46b_row1_col3\" class=\"data row1 col3\" >-0.003697</td>\n",
       "    </tr>\n",
       "    <tr>\n",
       "      <td id=\"T_1a46b_row2_col0\" class=\"data row2 col0\" >In how many scenarios projected by the ABS will Sydney remain higher than Melbourne in population beyond 2056?</td>\n",
       "      <td id=\"T_1a46b_row2_col1\" class=\"data row2 col1\" >two</td>\n",
       "      <td id=\"T_1a46b_row2_col2\" class=\"data row2 col2\" >two scenarios projected abs sydney remain higher melbourne population beyond 2056</td>\n",
       "      <td id=\"T_1a46b_row2_col3\" class=\"data row2 col3\" >0.075540</td>\n",
       "    </tr>\n",
       "    <tr>\n",
       "      <td id=\"T_1a46b_row3_col0\" class=\"data row3 col0\" >How many companies were involved in the development of USB in 1994?</td>\n",
       "      <td id=\"T_1a46b_row3_col1\" class=\"data row3 col1\" >seven</td>\n",
       "      <td id=\"T_1a46b_row3_col2\" class=\"data row3 col2\" >seven companies involved development usb 1994</td>\n",
       "      <td id=\"T_1a46b_row3_col3\" class=\"data row3 col3\" >0.108814</td>\n",
       "    </tr>\n",
       "    <tr>\n",
       "      <td id=\"T_1a46b_row4_col0\" class=\"data row4 col0\" >What kind of nutritional value do processed foods have in comparison to their fresh variants, considering the impact of processing techniques on nutrient content as described in the context of nutrition?</td>\n",
       "      <td id=\"T_1a46b_row4_col1\" class=\"data row4 col1\" >reduced</td>\n",
       "      <td id=\"T_1a46b_row4_col2\" class=\"data row4 col2\" >processed foods generally reduced nutritional value compared fresh foods superior nutrient content processing techniques lead loss essential nutrients often result addition harmful substances</td>\n",
       "      <td id=\"T_1a46b_row4_col3\" class=\"data row4 col3\" >0.138965</td>\n",
       "    </tr>\n",
       "    <tr>\n",
       "      <td id=\"T_1a46b_row5_col0\" class=\"data row5 col0\" >On what date did ESPN announce the purchase of a minority stake in the Arena Football League (AFL)?</td>\n",
       "      <td id=\"T_1a46b_row5_col1\" class=\"data row5 col1\" >December 19, 2006</td>\n",
       "      <td id=\"T_1a46b_row5_col2\" class=\"data row5 col2\" >espn announced purchase minority stake arena football league december 19 2006</td>\n",
       "      <td id=\"T_1a46b_row5_col3\" class=\"data row5 col3\" >0.143321</td>\n",
       "    </tr>\n",
       "    <tr>\n",
       "      <td id=\"T_1a46b_row6_col0\" class=\"data row6 col0\" >What term did Europeans use to refer to the Ottoman Empire during the mid-19th century?</td>\n",
       "      <td id=\"T_1a46b_row6_col1\" class=\"data row6 col1\" >the \"sick man\"</td>\n",
       "      <td id=\"T_1a46b_row6_col2\" class=\"data row6 col2\" >term europeans used refer ottoman empire mid19th century sick man europe</td>\n",
       "      <td id=\"T_1a46b_row6_col3\" class=\"data row6 col3\" >0.148575</td>\n",
       "    </tr>\n",
       "    <tr>\n",
       "      <td id=\"T_1a46b_row7_col0\" class=\"data row7 col0\" >What does the Sanskrit term \"Karma,\" which translates to \"action\" or \"work,\" refer to in the context of Buddhism?</td>\n",
       "      <td id=\"T_1a46b_row7_col1\" class=\"data row7 col1\" >action, work</td>\n",
       "      <td id=\"T_1a46b_row7_col2\" class=\"data row7 col2\" >buddhism sanskrit term karma refers force drives saṃsāra cycle suffering rebirth encompasses actions body speech mind arise mental intent lead consequences either life future rebirths good actions encouraged unwholesome actions avoided</td>\n",
       "      <td id=\"T_1a46b_row7_col3\" class=\"data row7 col3\" >0.160409</td>\n",
       "    </tr>\n",
       "    <tr>\n",
       "      <td id=\"T_1a46b_row8_col0\" class=\"data row8 col0\" >How many civilians died in the attack on the Vilnius TV Tower during the events leading up to the dissolution of the Soviet Union?</td>\n",
       "      <td id=\"T_1a46b_row8_col1\" class=\"data row8 col1\" >Fourteen</td>\n",
       "      <td id=\"T_1a46b_row8_col2\" class=\"data row8 col2\" >fourteen unarmed civilians died attack vilnius tv tower events leading dissolution soviet union</td>\n",
       "      <td id=\"T_1a46b_row8_col3\" class=\"data row8 col3\" >0.164086</td>\n",
       "    </tr>\n",
       "    <tr>\n",
       "      <td id=\"T_1a46b_row9_col0\" class=\"data row9 col0\" >At around what age, specifically twenty-four or twenty-five, was Dominic ordained as a Priest in the context of the Dominican Order?</td>\n",
       "      <td id=\"T_1a46b_row9_col1\" class=\"data row9 col1\" >twenty-five</td>\n",
       "      <td id=\"T_1a46b_row9_col2\" class=\"data row9 col2\" >dominic ordained priest age twentyfive</td>\n",
       "      <td id=\"T_1a46b_row9_col3\" class=\"data row9 col3\" >0.165672</td>\n",
       "    </tr>\n",
       "  </tbody>\n",
       "</table>\n"
      ],
      "text/plain": [
       "<pandas.io.formats.style.Styler at 0x42cb28a10>"
      ]
     },
     "metadata": {},
     "output_type": "display_data"
    },
    {
     "data": {
      "text/markdown": [
       "## Worse scoring answers for succinct"
      ],
      "text/plain": [
       "<IPython.core.display.Markdown object>"
      ]
     },
     "metadata": {},
     "output_type": "display_data"
    },
    {
     "data": {
      "text/html": [
       "<style type=\"text/css\">\n",
       "#T_b84d7 th {\n",
       "  text-align: left;\n",
       "}\n",
       "#T_b84d7 td {\n",
       "  text-align: left;\n",
       "}\n",
       "#T_b84d7_row0_col0, #T_b84d7_row0_col1, #T_b84d7_row0_col2, #T_b84d7_row0_col3, #T_b84d7_row1_col0, #T_b84d7_row1_col1, #T_b84d7_row1_col2, #T_b84d7_row1_col3, #T_b84d7_row2_col0, #T_b84d7_row2_col1, #T_b84d7_row2_col2, #T_b84d7_row2_col3, #T_b84d7_row3_col0, #T_b84d7_row3_col1, #T_b84d7_row3_col2, #T_b84d7_row3_col3, #T_b84d7_row4_col0, #T_b84d7_row4_col1, #T_b84d7_row4_col2, #T_b84d7_row4_col3, #T_b84d7_row5_col0, #T_b84d7_row5_col1, #T_b84d7_row5_col2, #T_b84d7_row5_col3, #T_b84d7_row6_col0, #T_b84d7_row6_col1, #T_b84d7_row6_col2, #T_b84d7_row6_col3, #T_b84d7_row7_col0, #T_b84d7_row7_col1, #T_b84d7_row7_col2, #T_b84d7_row7_col3, #T_b84d7_row8_col0, #T_b84d7_row8_col1, #T_b84d7_row8_col2, #T_b84d7_row8_col3, #T_b84d7_row9_col0, #T_b84d7_row9_col1, #T_b84d7_row9_col2, #T_b84d7_row9_col3 {\n",
       "  white-space: pre-wrap;\n",
       "}\n",
       "</style>\n",
       "<table id=\"T_b84d7\">\n",
       "  <thead>\n",
       "    <tr>\n",
       "      <th id=\"T_b84d7_level0_col0\" class=\"col_heading level0 col0\" >Synthesized Question</th>\n",
       "      <th id=\"T_b84d7_level0_col1\" class=\"col_heading level0 col1\" >Cleaned Answer</th>\n",
       "      <th id=\"T_b84d7_level0_col2\" class=\"col_heading level0 col2\" >Cleaned Predicted Answer</th>\n",
       "      <th id=\"T_b84d7_level0_col3\" class=\"col_heading level0 col3\" >Similarity</th>\n",
       "    </tr>\n",
       "  </thead>\n",
       "  <tbody>\n",
       "    <tr>\n",
       "      <td id=\"T_b84d7_row0_col0\" class=\"data row0 col0\" >How many species of fungi, both non-lichen-forming and lichen-forming, have been recorded in Antarctica?</td>\n",
       "      <td id=\"T_b84d7_row0_col1\" class=\"data row0 col1\" >1150</td>\n",
       "      <td id=\"T_b84d7_row0_col2\" class=\"data row0 col2\" >1150 species fungi recorded antarctica</td>\n",
       "      <td id=\"T_b84d7_row0_col3\" class=\"data row0 col3\" >-0.002039</td>\n",
       "    </tr>\n",
       "    <tr>\n",
       "      <td id=\"T_b84d7_row1_col0\" class=\"data row1 col0\" >Where was very expensive wallpaper imported from during the Georgian architectural period?</td>\n",
       "      <td id=\"T_b84d7_row1_col1\" class=\"data row1 col1\" >China</td>\n",
       "      <td id=\"T_b84d7_row1_col2\" class=\"data row1 col2\" >could find information origins expensive wallpaper georgian architectural period</td>\n",
       "      <td id=\"T_b84d7_row1_col3\" class=\"data row1 col3\" >0.154515</td>\n",
       "    </tr>\n",
       "    <tr>\n",
       "      <td id=\"T_b84d7_row2_col0\" class=\"data row2 col0\" >What kind of nutritional value do processed foods have in comparison to their fresh variants, considering the impact of processing techniques on nutrient content as described in the context of nutrition?</td>\n",
       "      <td id=\"T_b84d7_row2_col1\" class=\"data row2 col1\" >reduced</td>\n",
       "      <td id=\"T_b84d7_row2_col2\" class=\"data row2 col2\" >processed foods reduced nutritional value compared fresh foods</td>\n",
       "      <td id=\"T_b84d7_row2_col3\" class=\"data row2 col3\" >0.174138</td>\n",
       "    </tr>\n",
       "    <tr>\n",
       "      <td id=\"T_b84d7_row3_col0\" class=\"data row3 col0\" >According to Hayek, limited government power through the Rule of Law does not stultify individual efforts by ad hoc action. What does this mean for people's ability to make investments and future plans?</td>\n",
       "      <td id=\"T_b84d7_row3_col1\" class=\"data row3 col1\" >frustrate his efforts</td>\n",
       "      <td id=\"T_b84d7_row3_col2\" class=\"data row3 col2\" >according hayek limited government power rule law enables individuals confidently make investments future plans without fear government interference could frustrate efforts</td>\n",
       "      <td id=\"T_b84d7_row3_col3\" class=\"data row3 col3\" >0.212996</td>\n",
       "    </tr>\n",
       "    <tr>\n",
       "      <td id=\"T_b84d7_row4_col0\" class=\"data row4 col0\" >What does the Sanskrit term \"Karma,\" which translates to \"action\" or \"work,\" refer to in the context of Buddhism?</td>\n",
       "      <td id=\"T_b84d7_row4_col1\" class=\"data row4 col1\" >action, work</td>\n",
       "      <td id=\"T_b84d7_row4_col2\" class=\"data row4 col2\" >buddhism karma refers force drives saṃsāra encompassing actions body speech mind spring mental intent producing consequences</td>\n",
       "      <td id=\"T_b84d7_row4_col3\" class=\"data row4 col3\" >0.277542</td>\n",
       "    </tr>\n",
       "    <tr>\n",
       "      <td id=\"T_b84d7_row5_col0\" class=\"data row5 col0\" >Who is elected as mayor every even-numbered year in Ann Arbor, Michigan?</td>\n",
       "      <td id=\"T_b84d7_row5_col1\" class=\"data row5 col1\" >mayor</td>\n",
       "      <td id=\"T_b84d7_row5_col2\" class=\"data row5 col2\" >christopher taylor</td>\n",
       "      <td id=\"T_b84d7_row5_col3\" class=\"data row5 col3\" >0.288215</td>\n",
       "    </tr>\n",
       "    <tr>\n",
       "      <td id=\"T_b84d7_row6_col0\" class=\"data row6 col0\" >How many copies has Queen's Greatest Hits II sold worldwide?</td>\n",
       "      <td id=\"T_b84d7_row6_col1\" class=\"data row6 col1\" >16 million</td>\n",
       "      <td id=\"T_b84d7_row6_col2\" class=\"data row6 col2\" >sales figures queens greatest hits ii specifically available queen sold 150 million records worldwide</td>\n",
       "      <td id=\"T_b84d7_row6_col3\" class=\"data row6 col3\" >0.315704</td>\n",
       "    </tr>\n",
       "    <tr>\n",
       "      <td id=\"T_b84d7_row7_col0\" class=\"data row7 col0\" >When did Tajiks begin to be conscripted into the Soviet Army, particularly during the lead-up to and including World War II?</td>\n",
       "      <td id=\"T_b84d7_row7_col1\" class=\"data row7 col1\" >1939</td>\n",
       "      <td id=\"T_b84d7_row7_col2\" class=\"data row7 col2\" >tajiks began conscripted soviet army 1939</td>\n",
       "      <td id=\"T_b84d7_row7_col3\" class=\"data row7 col3\" >0.329918</td>\n",
       "    </tr>\n",
       "    <tr>\n",
       "      <td id=\"T_b84d7_row8_col0\" class=\"data row8 col0\" >What impact does temperature have on the variability of hunter-gatherer tool kits?</td>\n",
       "      <td id=\"T_b84d7_row8_col1\" class=\"data row8 col1\" >increased variability of tools</td>\n",
       "      <td id=\"T_b84d7_row8_col2\" class=\"data row8 col2\" >temperature increases variability huntergatherer tool kits</td>\n",
       "      <td id=\"T_b84d7_row8_col3\" class=\"data row8 col3\" >0.341771</td>\n",
       "    </tr>\n",
       "    <tr>\n",
       "      <td id=\"T_b84d7_row9_col0\" class=\"data row9 col0\" >What was the typical shape and size of town terraced houses during the Georgian architecture period?</td>\n",
       "      <td id=\"T_b84d7_row9_col1\" class=\"data row9 col1\" >tall and narrow</td>\n",
       "      <td id=\"T_b84d7_row9_col2\" class=\"data row9 col2\" >town terraced houses georgian architecture period typically tall narrow</td>\n",
       "      <td id=\"T_b84d7_row9_col3\" class=\"data row9 col3\" >0.359480</td>\n",
       "    </tr>\n",
       "  </tbody>\n",
       "</table>\n"
      ],
      "text/plain": [
       "<pandas.io.formats.style.Styler at 0x42cb28a10>"
      ]
     },
     "metadata": {},
     "output_type": "display_data"
    },
    {
     "data": {
      "text/markdown": [
       "## Worse scoring answers for focused"
      ],
      "text/plain": [
       "<IPython.core.display.Markdown object>"
      ]
     },
     "metadata": {},
     "output_type": "display_data"
    },
    {
     "data": {
      "text/html": [
       "<style type=\"text/css\">\n",
       "#T_c11e7 th {\n",
       "  text-align: left;\n",
       "}\n",
       "#T_c11e7 td {\n",
       "  text-align: left;\n",
       "}\n",
       "#T_c11e7_row0_col0, #T_c11e7_row0_col1, #T_c11e7_row0_col2, #T_c11e7_row0_col3, #T_c11e7_row1_col0, #T_c11e7_row1_col1, #T_c11e7_row1_col2, #T_c11e7_row1_col3, #T_c11e7_row2_col0, #T_c11e7_row2_col1, #T_c11e7_row2_col2, #T_c11e7_row2_col3, #T_c11e7_row3_col0, #T_c11e7_row3_col1, #T_c11e7_row3_col2, #T_c11e7_row3_col3, #T_c11e7_row4_col0, #T_c11e7_row4_col1, #T_c11e7_row4_col2, #T_c11e7_row4_col3, #T_c11e7_row5_col0, #T_c11e7_row5_col1, #T_c11e7_row5_col2, #T_c11e7_row5_col3, #T_c11e7_row6_col0, #T_c11e7_row6_col1, #T_c11e7_row6_col2, #T_c11e7_row6_col3, #T_c11e7_row7_col0, #T_c11e7_row7_col1, #T_c11e7_row7_col2, #T_c11e7_row7_col3, #T_c11e7_row8_col0, #T_c11e7_row8_col1, #T_c11e7_row8_col2, #T_c11e7_row8_col3, #T_c11e7_row9_col0, #T_c11e7_row9_col1, #T_c11e7_row9_col2, #T_c11e7_row9_col3 {\n",
       "  white-space: pre-wrap;\n",
       "}\n",
       "</style>\n",
       "<table id=\"T_c11e7\">\n",
       "  <thead>\n",
       "    <tr>\n",
       "      <th id=\"T_c11e7_level0_col0\" class=\"col_heading level0 col0\" >Synthesized Question</th>\n",
       "      <th id=\"T_c11e7_level0_col1\" class=\"col_heading level0 col1\" >Cleaned Answer</th>\n",
       "      <th id=\"T_c11e7_level0_col2\" class=\"col_heading level0 col2\" >Cleaned Predicted Answer</th>\n",
       "      <th id=\"T_c11e7_level0_col3\" class=\"col_heading level0 col3\" >Similarity</th>\n",
       "    </tr>\n",
       "  </thead>\n",
       "  <tbody>\n",
       "    <tr>\n",
       "      <td id=\"T_c11e7_row0_col0\" class=\"data row0 col0\" >What kind of nutritional value do processed foods have in comparison to their fresh variants, considering the impact of processing techniques on nutrient content as described in the context of nutrition?</td>\n",
       "      <td id=\"T_c11e7_row0_col1\" class=\"data row0 col1\" >reduced</td>\n",
       "      <td id=\"T_c11e7_row0_col2\" class=\"data row0 col2\" >processed foods generally reduced nutritional value compared fresh foods</td>\n",
       "      <td id=\"T_c11e7_row0_col3\" class=\"data row0 col3\" >0.156578</td>\n",
       "    </tr>\n",
       "    <tr>\n",
       "      <td id=\"T_c11e7_row1_col0\" class=\"data row1 col0\" >Where was very expensive wallpaper imported from during the Georgian architectural period?</td>\n",
       "      <td id=\"T_c11e7_row1_col1\" class=\"data row1 col1\" >China</td>\n",
       "      <td id=\"T_c11e7_row1_col2\" class=\"data row1 col2\" >georgian architectural period expensive wallpaper primarily imported france china french wallpapers particularly made intricate designs luxurious materials highly sought wealthy elite britain additionally chinese wallpapers often featuring elaborate patterns rich colors became popular time well importation wallpapers reflected trends interior design desire opulence among upper classes georgian society</td>\n",
       "      <td id=\"T_c11e7_row1_col3\" class=\"data row1 col3\" >0.206612</td>\n",
       "    </tr>\n",
       "    <tr>\n",
       "      <td id=\"T_c11e7_row2_col0\" class=\"data row2 col0\" >According to Hayek, limited government power through the Rule of Law does not stultify individual efforts by ad hoc action. What does this mean for people's ability to make investments and future plans?</td>\n",
       "      <td id=\"T_c11e7_row2_col1\" class=\"data row2 col1\" >frustrate his efforts</td>\n",
       "      <td id=\"T_c11e7_row2_col2\" class=\"data row2 col2\" >according hayek limited government power rule law allows individuals make wise investments future plans confidence prevents government frustrating efforts</td>\n",
       "      <td id=\"T_c11e7_row2_col3\" class=\"data row2 col3\" >0.218238</td>\n",
       "    </tr>\n",
       "    <tr>\n",
       "      <td id=\"T_c11e7_row3_col0\" class=\"data row3 col0\" >What does the Sanskrit term \"Karma,\" which translates to \"action\" or \"work,\" refer to in the context of Buddhism?</td>\n",
       "      <td id=\"T_c11e7_row3_col1\" class=\"data row3 col1\" >action, work</td>\n",
       "      <td id=\"T_c11e7_row3_col2\" class=\"data row3 col2\" >buddhism karma refers force drives saṃsāra involving actions body speech mind spring mental intent produce consequences</td>\n",
       "      <td id=\"T_c11e7_row3_col3\" class=\"data row3 col3\" >0.282605</td>\n",
       "    </tr>\n",
       "    <tr>\n",
       "      <td id=\"T_c11e7_row4_col0\" class=\"data row4 col0\" >Who is elected as mayor every even-numbered year in Ann Arbor, Michigan?</td>\n",
       "      <td id=\"T_c11e7_row4_col1\" class=\"data row4 col1\" >mayor</td>\n",
       "      <td id=\"T_c11e7_row4_col2\" class=\"data row4 col2\" >christopher taylor</td>\n",
       "      <td id=\"T_c11e7_row4_col3\" class=\"data row4 col3\" >0.288215</td>\n",
       "    </tr>\n",
       "    <tr>\n",
       "      <td id=\"T_c11e7_row5_col0\" class=\"data row5 col0\" >What impact does temperature have on the variability of hunter-gatherer tool kits?</td>\n",
       "      <td id=\"T_c11e7_row5_col1\" class=\"data row5 col1\" >increased variability of tools</td>\n",
       "      <td id=\"T_c11e7_row5_col2\" class=\"data row5 col2\" >temperature leads increased variability huntergatherer tool kits</td>\n",
       "      <td id=\"T_c11e7_row5_col3\" class=\"data row5 col3\" >0.314088</td>\n",
       "    </tr>\n",
       "    <tr>\n",
       "      <td id=\"T_c11e7_row6_col0\" class=\"data row6 col0\" >When did Tajiks begin to be conscripted into the Soviet Army, particularly during the lead-up to and including World War II?</td>\n",
       "      <td id=\"T_c11e7_row6_col1\" class=\"data row6 col1\" >1939</td>\n",
       "      <td id=\"T_c11e7_row6_col2\" class=\"data row6 col2\" >tajiks began conscripted soviet army 1939</td>\n",
       "      <td id=\"T_c11e7_row6_col3\" class=\"data row6 col3\" >0.329919</td>\n",
       "    </tr>\n",
       "    <tr>\n",
       "      <td id=\"T_c11e7_row7_col0\" class=\"data row7 col0\" >What are the implications of measuring heterosexuality and homosexuality on separate scales instead of the same scale, as discussed in the context of the Kinsey scale in the study of sexual orientation?</td>\n",
       "      <td id=\"T_c11e7_row7_col1\" class=\"data row7 col1\" >they act as tradeoffs such, whereby to be more feminine one had to be less masculine and vice versa</td>\n",
       "      <td id=\"T_c11e7_row7_col2\" class=\"data row7 col2\" >measuring heterosexuality homosexuality separate scales allows independent determination orientations enabling individuals identify heterosexual homosexual simultaneously</td>\n",
       "      <td id=\"T_c11e7_row7_col3\" class=\"data row7 col3\" >0.330656</td>\n",
       "    </tr>\n",
       "    <tr>\n",
       "      <td id=\"T_c11e7_row8_col0\" class=\"data row8 col0\" >What is the size of the Matthaei Botanical Gardens located in Ann Arbor, Michigan?</td>\n",
       "      <td id=\"T_c11e7_row8_col1\" class=\"data row8 col1\" >300 acres</td>\n",
       "      <td id=\"T_c11e7_row8_col2\" class=\"data row8 col2\" >matthaei botanical gardens ann arbor michigan covers area approximately 300 acres</td>\n",
       "      <td id=\"T_c11e7_row8_col3\" class=\"data row8 col3\" >0.385660</td>\n",
       "    </tr>\n",
       "    <tr>\n",
       "      <td id=\"T_c11e7_row9_col0\" class=\"data row9 col0\" >What term did Europeans use to refer to the Ottoman Empire during the mid-19th century?</td>\n",
       "      <td id=\"T_c11e7_row9_col1\" class=\"data row9 col1\" >the \"sick man\"</td>\n",
       "      <td id=\"T_c11e7_row9_col2\" class=\"data row9 col2\" >sick man europe</td>\n",
       "      <td id=\"T_c11e7_row9_col3\" class=\"data row9 col3\" >0.451294</td>\n",
       "    </tr>\n",
       "  </tbody>\n",
       "</table>\n"
      ],
      "text/plain": [
       "<pandas.io.formats.style.Styler at 0x3ba3d65d0>"
      ]
     },
     "metadata": {},
     "output_type": "display_data"
    }
   ],
   "source": [
    "# Show the worst 10 answers for each benchmark\n",
    "for benchmark in benchmarks:\n",
    "    display(Markdown(f\"## Worse scoring answers for {benchmark['name']}\"))\n",
    "    # Rename columns\n",
    "    df = benchmark['data'].rename(columns={\n",
    "        'Answer': 'Cleaned Answer',\n",
    "        'Predicted Answer': 'Cleaned Predicted Answer'\n",
    "    })\n",
    "    display_text_df(df[['Synthesized Question', 'Cleaned Answer', 'Cleaned Predicted Answer', 'Similarity']].sort_values(by='Similarity', ascending=True).head(10))\n"
   ]
  }
 ],
 "metadata": {
  "kernelspec": {
   "display_name": "aai520",
   "language": "python",
   "name": "python3"
  },
  "language_info": {
   "codemirror_mode": {
    "name": "ipython",
    "version": 3
   },
   "file_extension": ".py",
   "mimetype": "text/x-python",
   "name": "python",
   "nbconvert_exporter": "python",
   "pygments_lexer": "ipython3",
   "version": "3.12.5"
  }
 },
 "nbformat": 4,
 "nbformat_minor": 2
}
