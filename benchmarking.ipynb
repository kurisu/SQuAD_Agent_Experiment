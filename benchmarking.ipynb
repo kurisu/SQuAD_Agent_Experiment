{
 "cells": [
  {
   "cell_type": "markdown",
   "metadata": {},
   "source": [
    "## Load SQuAD data"
   ]
  },
  {
   "cell_type": "code",
   "execution_count": 13,
   "metadata": {},
   "outputs": [],
   "source": [
    "import os\n",
    "import numpy as np\n",
    "import pandas as pd\n",
    "from transformers.agents import agent_types\n",
    "from tqdm.notebook import tqdm\n",
    "import logging\n",
    "from IPython.display import Markdown\n",
    "from semscore import EmbeddingModelWrapper\n",
    "from statistics import mean\n",
    "from agent import get_agent\n",
    "from dotenv import load_dotenv\n",
    "from prompts import SUCCINCT_SQUAD_REACT_CODE_SYSTEM_PROMPT, FOCUSED_SQUAD_REACT_CODE_SYSTEM_PROMPT\n",
    "\n",
    "load_dotenv()  # Load OPENAI_API_KEY from .env (not included in repo)\n",
    "\n",
    "def display_text_df(df):\n",
    "    display(df.style.set_properties(**{'white-space': 'pre-wrap'}).set_table_styles(\n",
    "        [{'selector': 'th', 'props': [('text-align', 'left')]},\n",
    "         {'selector': 'td', 'props': [('text-align', 'left')]}\n",
    "        ]\n",
    "    ).hide())\n"
   ]
  },
  {
   "cell_type": "code",
   "execution_count": 2,
   "metadata": {},
   "outputs": [],
   "source": [
    "from data import get_data\n",
    "data = get_data(download=False)\n"
   ]
  },
  {
   "cell_type": "code",
   "execution_count": 3,
   "metadata": {},
   "outputs": [
    {
     "data": {
      "text/plain": [
       "(87599, 4)"
      ]
     },
     "execution_count": 3,
     "metadata": {},
     "output_type": "execute_result"
    }
   ],
   "source": [
    "data.df.shape"
   ]
  },
  {
   "cell_type": "code",
   "execution_count": 4,
   "metadata": {},
   "outputs": [
    {
     "data": {
      "text/html": [
       "<style type=\"text/css\">\n",
       "#T_fabc0 th {\n",
       "  text-align: left;\n",
       "}\n",
       "#T_fabc0 td {\n",
       "  text-align: left;\n",
       "}\n",
       "#T_fabc0_row0_col0, #T_fabc0_row0_col1, #T_fabc0_row0_col2, #T_fabc0_row0_col3, #T_fabc0_row1_col0, #T_fabc0_row1_col1, #T_fabc0_row1_col2, #T_fabc0_row1_col3, #T_fabc0_row2_col0, #T_fabc0_row2_col1, #T_fabc0_row2_col2, #T_fabc0_row2_col3 {\n",
       "  white-space: pre-wrap;\n",
       "}\n",
       "</style>\n",
       "<table id=\"T_fabc0\">\n",
       "  <thead>\n",
       "    <tr>\n",
       "      <th id=\"T_fabc0_level0_col0\" class=\"col_heading level0 col0\" >Title</th>\n",
       "      <th id=\"T_fabc0_level0_col1\" class=\"col_heading level0 col1\" >Context</th>\n",
       "      <th id=\"T_fabc0_level0_col2\" class=\"col_heading level0 col2\" >Question</th>\n",
       "      <th id=\"T_fabc0_level0_col3\" class=\"col_heading level0 col3\" >Answer</th>\n",
       "    </tr>\n",
       "  </thead>\n",
       "  <tbody>\n",
       "    <tr>\n",
       "      <td id=\"T_fabc0_row0_col0\" class=\"data row0 col0\" >University_of_Notre_Dame</td>\n",
       "      <td id=\"T_fabc0_row0_col1\" class=\"data row0 col1\" >Architecturally, the school has a Catholic character. Atop the Main Building's gold dome is a golden statue of the Virgin Mary. Immediately in front of the Main Building and facing it, is a copper statue of Christ with arms upraised with the legend \"Venite Ad Me Omnes\". Next to the Main Building is the Basilica of the Sacred Heart. Immediately behind the basilica is the Grotto, a Marian place of prayer and reflection. It is a replica of the grotto at Lourdes, France where the Virgin Mary reputedly appeared to Saint Bernadette Soubirous in 1858. At the end of the main drive (and in a direct line that connects through 3 statues and the Gold Dome), is a simple, modern stone statue of Mary.</td>\n",
       "      <td id=\"T_fabc0_row0_col2\" class=\"data row0 col2\" >To whom did the Virgin Mary allegedly appear in 1858 in Lourdes France?</td>\n",
       "      <td id=\"T_fabc0_row0_col3\" class=\"data row0 col3\" >Saint Bernadette Soubirous</td>\n",
       "    </tr>\n",
       "    <tr>\n",
       "      <td id=\"T_fabc0_row1_col0\" class=\"data row1 col0\" >University_of_Notre_Dame</td>\n",
       "      <td id=\"T_fabc0_row1_col1\" class=\"data row1 col1\" >Architecturally, the school has a Catholic character. Atop the Main Building's gold dome is a golden statue of the Virgin Mary. Immediately in front of the Main Building and facing it, is a copper statue of Christ with arms upraised with the legend \"Venite Ad Me Omnes\". Next to the Main Building is the Basilica of the Sacred Heart. Immediately behind the basilica is the Grotto, a Marian place of prayer and reflection. It is a replica of the grotto at Lourdes, France where the Virgin Mary reputedly appeared to Saint Bernadette Soubirous in 1858. At the end of the main drive (and in a direct line that connects through 3 statues and the Gold Dome), is a simple, modern stone statue of Mary.</td>\n",
       "      <td id=\"T_fabc0_row1_col2\" class=\"data row1 col2\" >What is in front of the Notre Dame Main Building?</td>\n",
       "      <td id=\"T_fabc0_row1_col3\" class=\"data row1 col3\" >a copper statue of Christ</td>\n",
       "    </tr>\n",
       "    <tr>\n",
       "      <td id=\"T_fabc0_row2_col0\" class=\"data row2 col0\" >University_of_Notre_Dame</td>\n",
       "      <td id=\"T_fabc0_row2_col1\" class=\"data row2 col1\" >Architecturally, the school has a Catholic character. Atop the Main Building's gold dome is a golden statue of the Virgin Mary. Immediately in front of the Main Building and facing it, is a copper statue of Christ with arms upraised with the legend \"Venite Ad Me Omnes\". Next to the Main Building is the Basilica of the Sacred Heart. Immediately behind the basilica is the Grotto, a Marian place of prayer and reflection. It is a replica of the grotto at Lourdes, France where the Virgin Mary reputedly appeared to Saint Bernadette Soubirous in 1858. At the end of the main drive (and in a direct line that connects through 3 statues and the Gold Dome), is a simple, modern stone statue of Mary.</td>\n",
       "      <td id=\"T_fabc0_row2_col2\" class=\"data row2 col2\" >The Basilica of the Sacred heart at Notre Dame is beside to which structure?</td>\n",
       "      <td id=\"T_fabc0_row2_col3\" class=\"data row2 col3\" >the Main Building</td>\n",
       "    </tr>\n",
       "  </tbody>\n",
       "</table>\n"
      ],
      "text/plain": [
       "<pandas.io.formats.style.Styler at 0x33347ef00>"
      ]
     },
     "metadata": {},
     "output_type": "display_data"
    }
   ],
   "source": [
    "display_text_df(data.df.head(3))\n"
   ]
  },
  {
   "cell_type": "code",
   "execution_count": 5,
   "metadata": {},
   "outputs": [
    {
     "data": {
      "text/html": [
       "<style type=\"text/css\">\n",
       "#T_2af6e th {\n",
       "  text-align: left;\n",
       "}\n",
       "#T_2af6e td {\n",
       "  text-align: left;\n",
       "}\n",
       "#T_2af6e_row0_col0, #T_2af6e_row0_col1, #T_2af6e_row0_col2, #T_2af6e_row0_col3, #T_2af6e_row1_col0, #T_2af6e_row1_col1, #T_2af6e_row1_col2, #T_2af6e_row1_col3, #T_2af6e_row2_col0, #T_2af6e_row2_col1, #T_2af6e_row2_col2, #T_2af6e_row2_col3, #T_2af6e_row3_col0, #T_2af6e_row3_col1, #T_2af6e_row3_col2, #T_2af6e_row3_col3, #T_2af6e_row4_col0, #T_2af6e_row4_col1, #T_2af6e_row4_col2, #T_2af6e_row4_col3, #T_2af6e_row5_col0, #T_2af6e_row5_col1, #T_2af6e_row5_col2, #T_2af6e_row5_col3, #T_2af6e_row6_col0, #T_2af6e_row6_col1, #T_2af6e_row6_col2, #T_2af6e_row6_col3, #T_2af6e_row7_col0, #T_2af6e_row7_col1, #T_2af6e_row7_col2, #T_2af6e_row7_col3, #T_2af6e_row8_col0, #T_2af6e_row8_col1, #T_2af6e_row8_col2, #T_2af6e_row8_col3, #T_2af6e_row9_col0, #T_2af6e_row9_col1, #T_2af6e_row9_col2, #T_2af6e_row9_col3 {\n",
       "  white-space: pre-wrap;\n",
       "}\n",
       "</style>\n",
       "<table id=\"T_2af6e\">\n",
       "  <thead>\n",
       "    <tr>\n",
       "      <th id=\"T_2af6e_level0_col0\" class=\"col_heading level0 col0\" >Title</th>\n",
       "      <th id=\"T_2af6e_level0_col1\" class=\"col_heading level0 col1\" >Context</th>\n",
       "      <th id=\"T_2af6e_level0_col2\" class=\"col_heading level0 col2\" >Question</th>\n",
       "      <th id=\"T_2af6e_level0_col3\" class=\"col_heading level0 col3\" >Answer</th>\n",
       "    </tr>\n",
       "  </thead>\n",
       "  <tbody>\n",
       "    <tr>\n",
       "      <td id=\"T_2af6e_row0_col0\" class=\"data row0 col0\" >Institute_of_technology</td>\n",
       "      <td id=\"T_2af6e_row0_col1\" class=\"data row0 col1\" >The world's first institution of technology or technical university with tertiary technical education is the Banská Akadémia in Banská Štiavnica, Slovakia, founded in 1735, Academy since December 13, 1762 established by queen Maria Theresa in order to train specialists of silver and gold mining and metallurgy in neighbourhood. Teaching started in 1764. Later the department of Mathematics, Mechanics and Hydraulics and department of Forestry were settled. University buildings are still at their place today and are used for teaching. University has launched the first book of electrotechnics in the world.</td>\n",
       "      <td id=\"T_2af6e_row0_col2\" class=\"data row0 col2\" >What year was the Banská Akadémia founded?</td>\n",
       "      <td id=\"T_2af6e_row0_col3\" class=\"data row0 col3\" >1735</td>\n",
       "    </tr>\n",
       "    <tr>\n",
       "      <td id=\"T_2af6e_row1_col0\" class=\"data row1 col0\" >Film_speed</td>\n",
       "      <td id=\"T_2af6e_row1_col1\" class=\"data row1 col1\" >The standard specifies how speed ratings should be reported by the camera. If the noise-based speed (40:1) is higher than the saturation-based speed, the noise-based speed should be reported, rounded downwards to a standard value (e.g. 200, 250, 320, or 400). The rationale is that exposure according to the lower saturation-based speed would not result in a visibly better image. In addition, an exposure latitude can be specified, ranging from the saturation-based speed to the 10:1 noise-based speed. If the noise-based speed (40:1) is lower than the saturation-based speed, or undefined because of high noise, the saturation-based speed is specified, rounded upwards to a standard value, because using the noise-based speed would lead to overexposed images. The camera may also report the SOS-based speed (explicitly as being an SOS speed), rounded to the nearest standard speed rating.</td>\n",
       "      <td id=\"T_2af6e_row1_col2\" class=\"data row1 col2\" >What is another speed that can also be reported by the camera?</td>\n",
       "      <td id=\"T_2af6e_row1_col3\" class=\"data row1 col3\" >SOS-based speed</td>\n",
       "    </tr>\n",
       "    <tr>\n",
       "      <td id=\"T_2af6e_row2_col0\" class=\"data row2 col0\" >Sumer</td>\n",
       "      <td id=\"T_2af6e_row2_col1\" class=\"data row2 col1\" >The most impressive and famous of Sumerian buildings are the ziggurats, large layered platforms which supported temples. Sumerian cylinder seals also depict houses built from reeds not unlike those built by the Marsh Arabs of Southern Iraq until as recently as 400 CE. The Sumerians also developed the arch, which enabled them to develop a strong type of dome. They built this by constructing and linking several arches. Sumerian temples and palaces made use of more advanced materials and techniques,[citation needed] such as buttresses, recesses, half columns, and clay nails.</td>\n",
       "      <td id=\"T_2af6e_row2_col2\" class=\"data row2 col2\" >Where were the use of advanced materials and techniques on display in Sumer?</td>\n",
       "      <td id=\"T_2af6e_row2_col3\" class=\"data row2 col3\" >Sumerian temples and palaces</td>\n",
       "    </tr>\n",
       "    <tr>\n",
       "      <td id=\"T_2af6e_row3_col0\" class=\"data row3 col0\" >Ann_Arbor,_Michigan</td>\n",
       "      <td id=\"T_2af6e_row3_col1\" class=\"data row3 col1\" >Ann Arbor has a council-manager form of government. The City Council has 11 voting members: the mayor and 10 city council members. The mayor and city council members serve two-year terms: the mayor is elected every even-numbered year, while half of the city council members are up for election annually (five in even-numbered and five in odd-numbered years). Two council members are elected from each of the city's five wards. The mayor is elected citywide. The mayor is the presiding officer of the City Council and has the power to appoint all Council committee members as well as board and commission members, with the approval of the City Council. The current mayor of Ann Arbor is Christopher Taylor, a Democrat who was elected as mayor in 2014. Day-to-day city operations are managed by a city administrator chosen by the city council.</td>\n",
       "      <td id=\"T_2af6e_row3_col2\" class=\"data row3 col2\" >Who is elected every even numbered year?</td>\n",
       "      <td id=\"T_2af6e_row3_col3\" class=\"data row3 col3\" >mayor</td>\n",
       "    </tr>\n",
       "    <tr>\n",
       "      <td id=\"T_2af6e_row4_col0\" class=\"data row4 col0\" >John_von_Neumann</td>\n",
       "      <td id=\"T_2af6e_row4_col1\" class=\"data row4 col1\" >Shortly before his death, when he was already quite ill, von Neumann headed the United States government's top secret ICBM committee, and it would sometimes meet in his home. Its purpose was to decide on the feasibility of building an ICBM large enough to carry a thermonuclear weapon. Von Neumann had long argued that while the technical obstacles were sizable, they could be overcome in time. The SM-65 Atlas passed its first fully functional test in 1959, two years after his death. The feasibility of an ICBM owed as much to improved, smaller warheads as it did to developments in rocketry, and his understanding of the former made his advice invaluable.</td>\n",
       "      <td id=\"T_2af6e_row4_col2\" class=\"data row4 col2\" >What was the purpose of top secret ICBM committee?</td>\n",
       "      <td id=\"T_2af6e_row4_col3\" class=\"data row4 col3\" >decide on the feasibility of building an ICBM large enough to carry a thermonuclear weapon</td>\n",
       "    </tr>\n",
       "    <tr>\n",
       "      <td id=\"T_2af6e_row5_col0\" class=\"data row5 col0\" >Pope_Paul_VI</td>\n",
       "      <td id=\"T_2af6e_row5_col1\" class=\"data row5 col1\" >Some critiqued Paul VI's decision; the newly created Synod of Bishops had an advisory role only and could not make decisions on their own, although the Council decided exactly that. During the pontificate of Paul VI, five such synods took place, and he is on record of implementing all their decisions. Related questions were raised about the new National Bishop Conferences, which became mandatory after Vatican II. Others questioned his Ostpolitik and contacts with Communism and the deals he engaged in for the faithful.</td>\n",
       "      <td id=\"T_2af6e_row5_col2\" class=\"data row5 col2\" >What conferences became a requirement after Vatican II?</td>\n",
       "      <td id=\"T_2af6e_row5_col3\" class=\"data row5 col3\" >National Bishop Conferences</td>\n",
       "    </tr>\n",
       "    <tr>\n",
       "      <td id=\"T_2af6e_row6_col0\" class=\"data row6 col0\" >Spectre_(2015_film)</td>\n",
       "      <td id=\"T_2af6e_row6_col1\" class=\"data row6 col1\" >Bond and Swann return to London where they meet M, Bill Tanner, Q, and Moneypenny; they intend to arrest C and stop Nine Eyes from going online. Swann leaves Bond, telling him she cannot be part of a life involving espionage, and is subsequently kidnapped. On the way, the group is ambushed and Bond is kidnapped, but the rest still proceed with the plan. After Q succeeds in preventing the Nine Eyes from going online, a brief struggle between M and C ends with the latter falling to his death. Meanwhile, Bond is taken to the old MI6 building, which is scheduled for demolition, and frees himself. Moving throughout the ruined labyrinth, he encounters a disfigured Blofeld, who tells him that he has three minutes to escape the building before explosives are detonated or die trying to save Swann. Bond finds Swann and the two escape by boat as the building collapses. Bond shoots down Blofeld's helicopter, which crashes onto Westminster Bridge. As Blofeld crawls away from the wreckage, Bond confronts him but ultimately leaves him to be arrested by M. Bond leaves the bridge with Swann.</td>\n",
       "      <td id=\"T_2af6e_row6_col2\" class=\"data row6 col2\" >Who does M fight with?</td>\n",
       "      <td id=\"T_2af6e_row6_col3\" class=\"data row6 col3\" >C</td>\n",
       "    </tr>\n",
       "    <tr>\n",
       "      <td id=\"T_2af6e_row7_col0\" class=\"data row7 col0\" >Antarctica</td>\n",
       "      <td id=\"T_2af6e_row7_col1\" class=\"data row7 col1\" >About 1150 species of fungi have been recorded from Antarctica, of which about 750 are non-lichen-forming and 400 are lichen-forming. Some of these species are cryptoendoliths as a result of evolution under extreme conditions, and have significantly contributed to shaping the impressive rock formations of the McMurdo Dry Valleys and surrounding mountain ridges. The apparently simple morphology, scarcely differentiated structures, metabolic systems and enzymes still active at very low temperatures, and reduced life cycles shown by such fungi make them particularly suited to harsh environments such as the McMurdo Dry Valleys. In particular, their thick-walled and strongly melanized cells make them resistant to UV light. Those features can also be observed in algae and cyanobacteria, suggesting that these are adaptations to the conditions prevailing in Antarctica. This has led to speculation that, if life ever occurred on Mars, it might have looked similar to Antarctic fungi such as Cryomyces minteri. Some of these fungi are also apparently endemic to Antarctica. Endemic Antarctic fungi also include certain dung-inhabiting species which have had to evolve in response to the double challenge of extreme cold while growing on dung, and the need to survive passage through the gut of warm-blooded animals.</td>\n",
       "      <td id=\"T_2af6e_row7_col2\" class=\"data row7 col2\" >How many species of fungi have been found on Antarctica?</td>\n",
       "      <td id=\"T_2af6e_row7_col3\" class=\"data row7 col3\" >1150</td>\n",
       "    </tr>\n",
       "    <tr>\n",
       "      <td id=\"T_2af6e_row8_col0\" class=\"data row8 col0\" >North_Carolina</td>\n",
       "      <td id=\"T_2af6e_row8_col1\" class=\"data row8 col1\" >In the Battle of Cowan's Ford, Cornwallis met resistance along the banks of the Catawba River at Cowan's Ford on February 1, 1781, in an attempt to engage General Morgan's forces during a tactical withdrawal. Morgan had moved to the northern part of the state to combine with General Greene's newly recruited forces. Generals Greene and Cornwallis finally met at the Battle of Guilford Courthouse in present-day Greensboro on March 15, 1781. Although the British troops held the field at the end of the battle, their casualties at the hands of the numerically superior Continental Army were crippling. Following this \"Pyrrhic victory\", Cornwallis chose to move to the Virginia coastline to get reinforcements, and to allow the Royal Navy to protect his battered army. This decision would result in Cornwallis' eventual defeat at Yorktown, Virginia, later in 1781. The Patriots' victory there guaranteed American independence.</td>\n",
       "      <td id=\"T_2af6e_row8_col2\" class=\"data row8 col2\" >After losing the battle of Guilford Courthouse, Cornawallis moved his troops where?</td>\n",
       "      <td id=\"T_2af6e_row8_col3\" class=\"data row8 col3\" >Virginia coastline</td>\n",
       "    </tr>\n",
       "    <tr>\n",
       "      <td id=\"T_2af6e_row9_col0\" class=\"data row9 col0\" >2008_Summer_Olympics_torch_relay</td>\n",
       "      <td id=\"T_2af6e_row9_col1\" class=\"data row9 col1\" >The Olympic Torch is based on traditional scrolls and uses a traditional Chinese design known as \"Lucky Cloud\". It is made from aluminum. It is 72 centimetres high and weighs 985 grams. The torch is designed to remain lit in 65 kilometre per hour (37 mile per hour) winds, and in rain of up to 50 millimetres (2 inches) per hour. An ignition key is used to ignite and extinguish the flame. The torch is fueled by cans of propane. Each can will light the torch for 15 minutes. It is designed by a team from Lenovo Group. The Torch is designed in reference to the traditional Chinese concept of the 5 elements that make up the entire universe.</td>\n",
       "      <td id=\"T_2af6e_row9_col2\" class=\"data row9 col2\" >What is the Olympic Torch made from?</td>\n",
       "      <td id=\"T_2af6e_row9_col3\" class=\"data row9 col3\" >aluminum.</td>\n",
       "    </tr>\n",
       "  </tbody>\n",
       "</table>\n"
      ],
      "text/plain": [
       "<pandas.io.formats.style.Styler at 0x333e190d0>"
      ]
     },
     "metadata": {},
     "output_type": "display_data"
    }
   ],
   "source": [
    "np.random.seed(42)\n",
    "# Select 10 random rows from data.df\n",
    "dfSample = data.df.sample(n=10)\n",
    "display_text_df(dfSample)"
   ]
  },
  {
   "cell_type": "code",
   "execution_count": 6,
   "metadata": {},
   "outputs": [],
   "source": [
    "# use local gpt to synthesize questions with context\n",
    "\n",
    "synth_system_prompt = \"\"\"\n",
    "You are an expert at clarifying what questions are really asking for.\n",
    "\n",
    "You will be given a question, a title and context.\n",
    "Your task is come up with a new version of the question that resolves ambiguities by adding only and exactly the necessary details from the title and context in a way that clarifies the question without changing the meaning or intent of the question.\n",
    "\n",
    "For example: \n",
    "Question: Who does M fight with?\n",
    "Title: Spectre_(2015_film)\n",
    "Context: Bond and Swann return to London where they meet M, Bill Tanner, Q, and Moneypenny; they intend to arrest C and stop Nine Eyes from going online. Swann leaves Bond, telling him she cannot be part of a life involving espionage, and is subsequently kidnapped. On the way, the group is ambushed and Bond is kidnapped, but the rest still proceed with the plan. After Q succeeds in preventing the Nine Eyes from going online, a brief struggle between M and C ends with the latter falling to his death. Meanwhile, Bond is taken to the old MI6 building, which is scheduled for demolition, and frees himself. Moving throughout the ruined labyrinth, he encounters a disfigured Blofeld, who tells him that he has three minutes to escape the building before explosives are detonated or die trying to save Swann. Bond finds Swann and the two escape by boat as the building collapses. Bond shoots down Blofeld's helicopter, which crashes onto Westminster Bridge. As Blofeld crawls away from the wreckage, Bond confronts him but ultimately leaves him to be arrested by M. Bond leaves the bridge with Swann.\n",
    "Response: Who does M struggle with during the events of Spectre (2015)?\n",
    "\"\"\"\n",
    "\n",
    "synth_user_prompt = \"\"\"\n",
    "Question: {question}\n",
    "Title: {title}\n",
    "Context: {context}\n",
    "\"\"\"\n"
   ]
  },
  {
   "cell_type": "code",
   "execution_count": 7,
   "metadata": {},
   "outputs": [
    {
     "data": {
      "application/vnd.jupyter.widget-view+json": {
       "model_id": "72c019858a07420aa58b99af39cef931",
       "version_major": 2,
       "version_minor": 0
      },
      "text/plain": [
       "  0%|          | 0/10 [00:00<?, ?it/s]"
      ]
     },
     "metadata": {},
     "output_type": "display_data"
    },
    {
     "data": {
      "text/html": [
       "<style type=\"text/css\">\n",
       "#T_c794c th {\n",
       "  text-align: left;\n",
       "}\n",
       "#T_c794c td {\n",
       "  text-align: left;\n",
       "}\n",
       "#T_c794c_row0_col0, #T_c794c_row0_col1, #T_c794c_row0_col2, #T_c794c_row0_col3, #T_c794c_row0_col4, #T_c794c_row1_col0, #T_c794c_row1_col1, #T_c794c_row1_col2, #T_c794c_row1_col3, #T_c794c_row1_col4, #T_c794c_row2_col0, #T_c794c_row2_col1, #T_c794c_row2_col2, #T_c794c_row2_col3, #T_c794c_row2_col4, #T_c794c_row3_col0, #T_c794c_row3_col1, #T_c794c_row3_col2, #T_c794c_row3_col3, #T_c794c_row3_col4, #T_c794c_row4_col0, #T_c794c_row4_col1, #T_c794c_row4_col2, #T_c794c_row4_col3, #T_c794c_row4_col4, #T_c794c_row5_col0, #T_c794c_row5_col1, #T_c794c_row5_col2, #T_c794c_row5_col3, #T_c794c_row5_col4, #T_c794c_row6_col0, #T_c794c_row6_col1, #T_c794c_row6_col2, #T_c794c_row6_col3, #T_c794c_row6_col4, #T_c794c_row7_col0, #T_c794c_row7_col1, #T_c794c_row7_col2, #T_c794c_row7_col3, #T_c794c_row7_col4, #T_c794c_row8_col0, #T_c794c_row8_col1, #T_c794c_row8_col2, #T_c794c_row8_col3, #T_c794c_row8_col4, #T_c794c_row9_col0, #T_c794c_row9_col1, #T_c794c_row9_col2, #T_c794c_row9_col3, #T_c794c_row9_col4 {\n",
       "  white-space: pre-wrap;\n",
       "}\n",
       "</style>\n",
       "<table id=\"T_c794c\">\n",
       "  <thead>\n",
       "    <tr>\n",
       "      <th id=\"T_c794c_level0_col0\" class=\"col_heading level0 col0\" >Title</th>\n",
       "      <th id=\"T_c794c_level0_col1\" class=\"col_heading level0 col1\" >Context</th>\n",
       "      <th id=\"T_c794c_level0_col2\" class=\"col_heading level0 col2\" >Question</th>\n",
       "      <th id=\"T_c794c_level0_col3\" class=\"col_heading level0 col3\" >Answer</th>\n",
       "      <th id=\"T_c794c_level0_col4\" class=\"col_heading level0 col4\" >Synthesized Question</th>\n",
       "    </tr>\n",
       "  </thead>\n",
       "  <tbody>\n",
       "    <tr>\n",
       "      <td id=\"T_c794c_row0_col0\" class=\"data row0 col0\" >Institute_of_technology</td>\n",
       "      <td id=\"T_c794c_row0_col1\" class=\"data row0 col1\" >The world's first institution of technology or technical university with tertiary technical education is the Banská Akadémia in Banská Štiavnica, Slovakia, founded in 1735, Academy since December 13, 1762 established by queen Maria Theresa in order to train specialists of silver and gold mining and metallurgy in neighbourhood. Teaching started in 1764. Later the department of Mathematics, Mechanics and Hydraulics and department of Forestry were settled. University buildings are still at their place today and are used for teaching. University has launched the first book of electrotechnics in the world.</td>\n",
       "      <td id=\"T_c794c_row0_col2\" class=\"data row0 col2\" >What year was the Banská Akadémia founded?</td>\n",
       "      <td id=\"T_c794c_row0_col3\" class=\"data row0 col3\" >1735</td>\n",
       "      <td id=\"T_c794c_row0_col4\" class=\"data row0 col4\" >What year was the Banská Akadémia, the world's first institution of technology, founded in Banská Štiavnica, Slovakia?</td>\n",
       "    </tr>\n",
       "    <tr>\n",
       "      <td id=\"T_c794c_row1_col0\" class=\"data row1 col0\" >Film_speed</td>\n",
       "      <td id=\"T_c794c_row1_col1\" class=\"data row1 col1\" >The standard specifies how speed ratings should be reported by the camera. If the noise-based speed (40:1) is higher than the saturation-based speed, the noise-based speed should be reported, rounded downwards to a standard value (e.g. 200, 250, 320, or 400). The rationale is that exposure according to the lower saturation-based speed would not result in a visibly better image. In addition, an exposure latitude can be specified, ranging from the saturation-based speed to the 10:1 noise-based speed. If the noise-based speed (40:1) is lower than the saturation-based speed, or undefined because of high noise, the saturation-based speed is specified, rounded upwards to a standard value, because using the noise-based speed would lead to overexposed images. The camera may also report the SOS-based speed (explicitly as being an SOS speed), rounded to the nearest standard speed rating.</td>\n",
       "      <td id=\"T_c794c_row1_col2\" class=\"data row1 col2\" >What is another speed that can also be reported by the camera?</td>\n",
       "      <td id=\"T_c794c_row1_col3\" class=\"data row1 col3\" >SOS-based speed</td>\n",
       "      <td id=\"T_c794c_row1_col4\" class=\"data row1 col4\" >What is another speed, besides the noise-based and saturation-based speeds, that can also be reported by the camera according to the film speed standards?</td>\n",
       "    </tr>\n",
       "    <tr>\n",
       "      <td id=\"T_c794c_row2_col0\" class=\"data row2 col0\" >Sumer</td>\n",
       "      <td id=\"T_c794c_row2_col1\" class=\"data row2 col1\" >The most impressive and famous of Sumerian buildings are the ziggurats, large layered platforms which supported temples. Sumerian cylinder seals also depict houses built from reeds not unlike those built by the Marsh Arabs of Southern Iraq until as recently as 400 CE. The Sumerians also developed the arch, which enabled them to develop a strong type of dome. They built this by constructing and linking several arches. Sumerian temples and palaces made use of more advanced materials and techniques,[citation needed] such as buttresses, recesses, half columns, and clay nails.</td>\n",
       "      <td id=\"T_c794c_row2_col2\" class=\"data row2 col2\" >Where were the use of advanced materials and techniques on display in Sumer?</td>\n",
       "      <td id=\"T_c794c_row2_col3\" class=\"data row2 col3\" >Sumerian temples and palaces</td>\n",
       "      <td id=\"T_c794c_row2_col4\" class=\"data row2 col4\" >Where were the advanced materials and techniques, such as buttresses and arches, used in the construction of temples and palaces in Sumer?</td>\n",
       "    </tr>\n",
       "    <tr>\n",
       "      <td id=\"T_c794c_row3_col0\" class=\"data row3 col0\" >Ann_Arbor,_Michigan</td>\n",
       "      <td id=\"T_c794c_row3_col1\" class=\"data row3 col1\" >Ann Arbor has a council-manager form of government. The City Council has 11 voting members: the mayor and 10 city council members. The mayor and city council members serve two-year terms: the mayor is elected every even-numbered year, while half of the city council members are up for election annually (five in even-numbered and five in odd-numbered years). Two council members are elected from each of the city's five wards. The mayor is elected citywide. The mayor is the presiding officer of the City Council and has the power to appoint all Council committee members as well as board and commission members, with the approval of the City Council. The current mayor of Ann Arbor is Christopher Taylor, a Democrat who was elected as mayor in 2014. Day-to-day city operations are managed by a city administrator chosen by the city council.</td>\n",
       "      <td id=\"T_c794c_row3_col2\" class=\"data row3 col2\" >Who is elected every even numbered year?</td>\n",
       "      <td id=\"T_c794c_row3_col3\" class=\"data row3 col3\" >mayor</td>\n",
       "      <td id=\"T_c794c_row3_col4\" class=\"data row3 col4\" >Who is elected as mayor in Ann Arbor every even-numbered year?</td>\n",
       "    </tr>\n",
       "    <tr>\n",
       "      <td id=\"T_c794c_row4_col0\" class=\"data row4 col0\" >John_von_Neumann</td>\n",
       "      <td id=\"T_c794c_row4_col1\" class=\"data row4 col1\" >Shortly before his death, when he was already quite ill, von Neumann headed the United States government's top secret ICBM committee, and it would sometimes meet in his home. Its purpose was to decide on the feasibility of building an ICBM large enough to carry a thermonuclear weapon. Von Neumann had long argued that while the technical obstacles were sizable, they could be overcome in time. The SM-65 Atlas passed its first fully functional test in 1959, two years after his death. The feasibility of an ICBM owed as much to improved, smaller warheads as it did to developments in rocketry, and his understanding of the former made his advice invaluable.</td>\n",
       "      <td id=\"T_c794c_row4_col2\" class=\"data row4 col2\" >What was the purpose of top secret ICBM committee?</td>\n",
       "      <td id=\"T_c794c_row4_col3\" class=\"data row4 col3\" >decide on the feasibility of building an ICBM large enough to carry a thermonuclear weapon</td>\n",
       "      <td id=\"T_c794c_row4_col4\" class=\"data row4 col4\" >What was the purpose of the top secret ICBM committee that John von Neumann headed shortly before his death?</td>\n",
       "    </tr>\n",
       "    <tr>\n",
       "      <td id=\"T_c794c_row5_col0\" class=\"data row5 col0\" >Pope_Paul_VI</td>\n",
       "      <td id=\"T_c794c_row5_col1\" class=\"data row5 col1\" >Some critiqued Paul VI's decision; the newly created Synod of Bishops had an advisory role only and could not make decisions on their own, although the Council decided exactly that. During the pontificate of Paul VI, five such synods took place, and he is on record of implementing all their decisions. Related questions were raised about the new National Bishop Conferences, which became mandatory after Vatican II. Others questioned his Ostpolitik and contacts with Communism and the deals he engaged in for the faithful.</td>\n",
       "      <td id=\"T_c794c_row5_col2\" class=\"data row5 col2\" >What conferences became a requirement after Vatican II?</td>\n",
       "      <td id=\"T_c794c_row5_col3\" class=\"data row5 col3\" >National Bishop Conferences</td>\n",
       "      <td id=\"T_c794c_row5_col4\" class=\"data row5 col4\" >What National Bishop Conferences became a requirement after Vatican II during the pontificate of Pope Paul VI?</td>\n",
       "    </tr>\n",
       "    <tr>\n",
       "      <td id=\"T_c794c_row6_col0\" class=\"data row6 col0\" >Spectre_(2015_film)</td>\n",
       "      <td id=\"T_c794c_row6_col1\" class=\"data row6 col1\" >Bond and Swann return to London where they meet M, Bill Tanner, Q, and Moneypenny; they intend to arrest C and stop Nine Eyes from going online. Swann leaves Bond, telling him she cannot be part of a life involving espionage, and is subsequently kidnapped. On the way, the group is ambushed and Bond is kidnapped, but the rest still proceed with the plan. After Q succeeds in preventing the Nine Eyes from going online, a brief struggle between M and C ends with the latter falling to his death. Meanwhile, Bond is taken to the old MI6 building, which is scheduled for demolition, and frees himself. Moving throughout the ruined labyrinth, he encounters a disfigured Blofeld, who tells him that he has three minutes to escape the building before explosives are detonated or die trying to save Swann. Bond finds Swann and the two escape by boat as the building collapses. Bond shoots down Blofeld's helicopter, which crashes onto Westminster Bridge. As Blofeld crawls away from the wreckage, Bond confronts him but ultimately leaves him to be arrested by M. Bond leaves the bridge with Swann.</td>\n",
       "      <td id=\"T_c794c_row6_col2\" class=\"data row6 col2\" >Who does M fight with?</td>\n",
       "      <td id=\"T_c794c_row6_col3\" class=\"data row6 col3\" >C</td>\n",
       "      <td id=\"T_c794c_row6_col4\" class=\"data row6 col4\" >Who does M struggle with during the events of the film Spectre (2015)?</td>\n",
       "    </tr>\n",
       "    <tr>\n",
       "      <td id=\"T_c794c_row7_col0\" class=\"data row7 col0\" >Antarctica</td>\n",
       "      <td id=\"T_c794c_row7_col1\" class=\"data row7 col1\" >About 1150 species of fungi have been recorded from Antarctica, of which about 750 are non-lichen-forming and 400 are lichen-forming. Some of these species are cryptoendoliths as a result of evolution under extreme conditions, and have significantly contributed to shaping the impressive rock formations of the McMurdo Dry Valleys and surrounding mountain ridges. The apparently simple morphology, scarcely differentiated structures, metabolic systems and enzymes still active at very low temperatures, and reduced life cycles shown by such fungi make them particularly suited to harsh environments such as the McMurdo Dry Valleys. In particular, their thick-walled and strongly melanized cells make them resistant to UV light. Those features can also be observed in algae and cyanobacteria, suggesting that these are adaptations to the conditions prevailing in Antarctica. This has led to speculation that, if life ever occurred on Mars, it might have looked similar to Antarctic fungi such as Cryomyces minteri. Some of these fungi are also apparently endemic to Antarctica. Endemic Antarctic fungi also include certain dung-inhabiting species which have had to evolve in response to the double challenge of extreme cold while growing on dung, and the need to survive passage through the gut of warm-blooded animals.</td>\n",
       "      <td id=\"T_c794c_row7_col2\" class=\"data row7 col2\" >How many species of fungi have been found on Antarctica?</td>\n",
       "      <td id=\"T_c794c_row7_col3\" class=\"data row7 col3\" >1150</td>\n",
       "      <td id=\"T_c794c_row7_col4\" class=\"data row7 col4\" >How many species of fungi have been recorded in Antarctica, including both non-lichen-forming and lichen-forming species?</td>\n",
       "    </tr>\n",
       "    <tr>\n",
       "      <td id=\"T_c794c_row8_col0\" class=\"data row8 col0\" >North_Carolina</td>\n",
       "      <td id=\"T_c794c_row8_col1\" class=\"data row8 col1\" >In the Battle of Cowan's Ford, Cornwallis met resistance along the banks of the Catawba River at Cowan's Ford on February 1, 1781, in an attempt to engage General Morgan's forces during a tactical withdrawal. Morgan had moved to the northern part of the state to combine with General Greene's newly recruited forces. Generals Greene and Cornwallis finally met at the Battle of Guilford Courthouse in present-day Greensboro on March 15, 1781. Although the British troops held the field at the end of the battle, their casualties at the hands of the numerically superior Continental Army were crippling. Following this \"Pyrrhic victory\", Cornwallis chose to move to the Virginia coastline to get reinforcements, and to allow the Royal Navy to protect his battered army. This decision would result in Cornwallis' eventual defeat at Yorktown, Virginia, later in 1781. The Patriots' victory there guaranteed American independence.</td>\n",
       "      <td id=\"T_c794c_row8_col2\" class=\"data row8 col2\" >After losing the battle of Guilford Courthouse, Cornawallis moved his troops where?</td>\n",
       "      <td id=\"T_c794c_row8_col3\" class=\"data row8 col3\" >Virginia coastline</td>\n",
       "      <td id=\"T_c794c_row8_col4\" class=\"data row8 col4\" >After losing the Battle of Guilford Courthouse, where did Cornwallis move his troops to seek reinforcements and protection from the Royal Navy?</td>\n",
       "    </tr>\n",
       "    <tr>\n",
       "      <td id=\"T_c794c_row9_col0\" class=\"data row9 col0\" >2008_Summer_Olympics_torch_relay</td>\n",
       "      <td id=\"T_c794c_row9_col1\" class=\"data row9 col1\" >The Olympic Torch is based on traditional scrolls and uses a traditional Chinese design known as \"Lucky Cloud\". It is made from aluminum. It is 72 centimetres high and weighs 985 grams. The torch is designed to remain lit in 65 kilometre per hour (37 mile per hour) winds, and in rain of up to 50 millimetres (2 inches) per hour. An ignition key is used to ignite and extinguish the flame. The torch is fueled by cans of propane. Each can will light the torch for 15 minutes. It is designed by a team from Lenovo Group. The Torch is designed in reference to the traditional Chinese concept of the 5 elements that make up the entire universe.</td>\n",
       "      <td id=\"T_c794c_row9_col2\" class=\"data row9 col2\" >What is the Olympic Torch made from?</td>\n",
       "      <td id=\"T_c794c_row9_col3\" class=\"data row9 col3\" >aluminum.</td>\n",
       "      <td id=\"T_c794c_row9_col4\" class=\"data row9 col4\" >What material is the Olympic Torch made from in the 2008 Summer Olympics torch relay?</td>\n",
       "    </tr>\n",
       "  </tbody>\n",
       "</table>\n"
      ],
      "text/plain": [
       "<pandas.io.formats.style.Styler at 0x332a72330>"
      ]
     },
     "metadata": {},
     "output_type": "display_data"
    }
   ],
   "source": [
    "# Example: reuse your existing OpenAI setup\n",
    "from openai import OpenAI\n",
    "\n",
    "# Point to the local server\n",
    "# client = OpenAI(base_url=\"http://localhost:1234/v1\", api_key=\"lm-studio\")\n",
    "client = OpenAI()\n",
    "\n",
    "synth_answers = []\n",
    "for title, context, question, answer in tqdm(dfSample.values):\n",
    "    completion = client.chat.completions.create(\n",
    "    # model=\"lmstudio-community/Meta-Llama-3.1-8B-Instruct-GGUF\",\n",
    "    model=\"gpt-4o-mini-2024-07-18\",\n",
    "    messages=[\n",
    "        {\"role\": \"system\", \"content\": synth_system_prompt},\n",
    "        {\"role\": \"user\", \"content\": synth_user_prompt.format(question=question, title=title, context=context)}\n",
    "    ],\n",
    "    temperature=0.7,\n",
    "    )\n",
    "    synth_answers.append(completion.choices[0].message.content)\n",
    "\n",
    "dfSample[\"Synthesized Question\"] = synth_answers\n",
    "display_text_df(dfSample)"
   ]
  },
  {
   "cell_type": "code",
   "execution_count": 12,
   "metadata": {},
   "outputs": [],
   "source": [
    "SAMPLES_DIR = \"samples\"\n",
    "os.makedirs(SAMPLES_DIR, exist_ok=True)\n",
    "dfSample.to_pickle(os.path.join(SAMPLES_DIR, f\"samples.pkl\"))    "
   ]
  },
  {
   "cell_type": "code",
   "execution_count": 8,
   "metadata": {},
   "outputs": [
    {
     "name": "stderr",
     "output_type": "stream",
     "text": [
      "\u001b[32;20;1m======== New task ========\u001b[0m\n",
      "\u001b[37;1mWhat year was the Banská Akadémia, the world's first institution of technology, founded in Banská Štiavnica, Slovakia?\u001b[0m\n",
      "\u001b[33;1m=== Agent thoughts:\u001b[0m\n",
      "\u001b[0mThought: I will use the squad_retriever tool to find information about the Banská Akadémia, specifically focusing on its founding year. I will include details about its significance as the world's first institution of technology and its location in Banská Štiavnica, Slovakia to refine my query.\u001b[0m\n",
      "\u001b[33;1m>>> Agent is executing the code below:\u001b[0m\n",
      "\u001b[0m\u001b[38;5;7manswer\u001b[39m\u001b[38;5;7m \u001b[39m\u001b[38;5;109;01m=\u001b[39;00m\u001b[38;5;7m \u001b[39m\u001b[38;5;7msquad_retriever\u001b[39m\u001b[38;5;7m(\u001b[39m\u001b[38;5;7mquery\u001b[39m\u001b[38;5;109;01m=\u001b[39;00m\u001b[38;5;144m\"\u001b[39m\u001b[38;5;144mWhat year was the Banská Akadémia founded in Banská Štiavnica, Slovakia?\u001b[39m\u001b[38;5;144m\"\u001b[39m\u001b[38;5;7m)\u001b[39m\n",
      "\u001b[38;5;109mprint\u001b[39m\u001b[38;5;7m(\u001b[39m\u001b[38;5;7manswer\u001b[39m\u001b[38;5;7m)\u001b[39m\u001b[0m\n",
      "\u001b[33;1m====\u001b[0m\n",
      "\u001b[33;1mPrint outputs:\u001b[0m\n",
      "\u001b[32;20m===Document===\n",
      "Title: Institute_of_technology\n",
      "Context: The world's first institution of technology or technical university with tertiary technical education is the Banská Akadémia in Banská Štiavnica, Slovakia, founded in 1735, Academy since December 13, 1762 established by queen Maria Theresa in order to train specialists of silver and gold mining and metallurgy in neighbourhood. Teaching started in 1764. Later the department of Mathematics, Mechanics and Hydraulics and department of Forestry were settled. University buildings are still at their place today and are used for teaching. University has launched the first book of electrotechnics in the world.\n",
      "Question: What year was the Banská Akadémia founded?\n",
      "Acceptable Answers:\n",
      "['1. 1735']\n",
      "Score: 0.7969409478917509\n",
      "===Document===\n",
      "Title: Institute_of_technology\n",
      "Context: The world's first institution of technology or technical university with tertiary technical education is the Banská Akadémia in Banská Štiavnica, Slovakia, founded in 1735, Academy since December 13, 1762 established by queen Maria Theresa in order to train specialists of silver and gold mining and metallurgy in neighbourhood. Teaching started in 1764. Later the department of Mathematics, Mechanics and Hydraulics and department of Forestry were settled. University buildings are still at their place today and are used for teaching. University has launched the first book of electrotechnics in the world.\n",
      "Question: What year did teaching start at the Banská Akadémia?\n",
      "Acceptable Answers:\n",
      "['1. 1764']\n",
      "Score: 0.7881610513666579\n",
      "\u001b[0m\n",
      "\u001b[33;1m=== Agent thoughts:\u001b[0m\n",
      "\u001b[0mThought: From the information retrieved, I learned that the Banská Akadémia was founded in the year 1735. I will now use this information to provide the final answer.\u001b[0m\n",
      "\u001b[33;1m>>> Agent is executing the code below:\u001b[0m\n",
      "\u001b[0m\u001b[38;5;7mfinal_answer\u001b[39m\u001b[38;5;7m(\u001b[39m\u001b[38;5;144m\"\u001b[39m\u001b[38;5;144mThe Banská Akadémia, the world\u001b[39m\u001b[38;5;144m'\u001b[39m\u001b[38;5;144ms first institution of technology, was founded in 1735.\u001b[39m\u001b[38;5;144m\"\u001b[39m\u001b[38;5;7m)\u001b[39m\u001b[0m\n",
      "\u001b[33;1m====\u001b[0m\n",
      "\u001b[33;1mPrint outputs:\u001b[0m\n",
      "\u001b[32;20m\u001b[0m\n",
      "\u001b[33;1mLast output from code snippet:\u001b[0m\n",
      "\u001b[32;20mThe Banská Akadémia, the world's first institution of technology, was founded in 1735.\u001b[0m\n",
      "\u001b[32;20;1mFinal answer:\u001b[0m\n",
      "\u001b[32;20mThe Banská Akadémia, the world's first institution of technology, was founded in 1735.\u001b[0m\n"
     ]
    },
    {
     "data": {
      "text/plain": [
       "\"The Banská Akadémia, the world's first institution of technology, was founded in 1735.\""
      ]
     },
     "execution_count": 8,
     "metadata": {},
     "output_type": "execute_result"
    }
   ],
   "source": [
    "prompt = \"What year was the Banská Akadémia, the world's first institution of technology, founded in Banská Štiavnica, Slovakia?\"\n",
    "agent = get_agent(use_openai=True)\n",
    "agent.run(prompt, stream=False, reset=True)\n"
   ]
  },
  {
   "cell_type": "markdown",
   "metadata": {},
   "source": [
    "### Create the agent to be evaluated"
   ]
  },
  {
   "cell_type": "markdown",
   "metadata": {},
   "source": [
    "### Run the agent on the random sample of questions\n",
    "\n",
    "* Unlike the default Retrieval QA or Open Generative QA of SQuAD, in our use case, the agent would normally be given context in the course of a natural conversation, as the user elaborates on what they want to know. \n",
    "* Therefore, for benchmarking, we will provide the context to answer the question in the prompt.\n",
    "\n",
    "### Use semantic similarity to evaluate the agent's answers against the reference answers\n",
    "\n",
    "* One flaw of this approach is that it does not take into account the existence of multiple acceptable answers.\n",
    "* Another flaw is that the agent me be unfairly penalized for elaborating on the answer, while this benchmark focuses on only and exactly the one canonical answer given.\n"
   ]
  },
  {
   "cell_type": "code",
   "execution_count": 9,
   "metadata": {},
   "outputs": [],
   "source": [
    "BENCHMARKS_DIR = \"benchmarks\"\n",
    "\n",
    "def benchmark_agent(agent, dfSample, name):\n",
    "    answers_ref, answers_pred = [], []        \n",
    "\n",
    "    # Suppress logging from the agent, which can be quite verbose\n",
    "    agent.logger.setLevel(logging.CRITICAL)\n",
    "\n",
    "    for title, context, question, answer, synthesized_question in tqdm(dfSample.values):\n",
    "        class Output:\n",
    "            output: agent_types.AgentType | str = None\n",
    "\n",
    "        prompt = synthesized_question\n",
    "        answers_ref.append(answer)\n",
    "        final_answer = agent.run(prompt, stream=False, reset=True)\n",
    "        answers_pred.append(final_answer)\n",
    "\n",
    "    answers_ref = [str(answer) for answer in answers_ref]\n",
    "    answers_pred = [str(answer) for answer in answers_pred]\n",
    "\n",
    "    em = EmbeddingModelWrapper()\n",
    "    similarities = em.get_similarities(\n",
    "        em.get_embeddings( answers_pred ),\n",
    "        em.get_embeddings( answers_ref ),\n",
    "    )\n",
    "\n",
    "    dfAnswers = dfSample.copy()\n",
    "    dfAnswers[\"Predicted Answer\"] = answers_pred\n",
    "    dfAnswers[\"Similarity\"] = similarities\n",
    "\n",
    "    os.makedirs(BENCHMARKS_DIR, exist_ok=True)\n",
    "    dfAnswers.to_pickle(os.path.join(BENCHMARKS_DIR, f\"{name}.pkl\"))\n"
   ]
  },
  {
   "cell_type": "markdown",
   "metadata": {},
   "source": [
    "### Set up and run the benchmarks"
   ]
  },
  {
   "cell_type": "code",
   "execution_count": 10,
   "metadata": {},
   "outputs": [
    {
     "data": {
      "application/vnd.jupyter.widget-view+json": {
       "model_id": "45035dd5d46e417294f4c1cf8fd57edf",
       "version_major": 2,
       "version_minor": 0
      },
      "text/plain": [
       "  0%|          | 0/3 [00:00<?, ?it/s]"
      ]
     },
     "metadata": {},
     "output_type": "display_data"
    },
    {
     "data": {
      "application/vnd.jupyter.widget-view+json": {
       "model_id": "c1b712e3fa1c48c4bcd85728fc9a98c8",
       "version_major": 2,
       "version_minor": 0
      },
      "text/plain": [
       "  0%|          | 0/10 [00:00<?, ?it/s]"
      ]
     },
     "metadata": {},
     "output_type": "display_data"
    },
    {
     "data": {
      "application/vnd.jupyter.widget-view+json": {
       "model_id": "5ddf8847b4e04280a34bdf8405b82690",
       "version_major": 2,
       "version_minor": 0
      },
      "text/plain": [
       "  0%|          | 0/10 [00:00<?, ?it/s]"
      ]
     },
     "metadata": {},
     "output_type": "display_data"
    },
    {
     "data": {
      "application/vnd.jupyter.widget-view+json": {
       "model_id": "347adadce3bb446195df2d14547b774c",
       "version_major": 2,
       "version_minor": 0
      },
      "text/plain": [
       "  0%|          | 0/10 [00:00<?, ?it/s]"
      ]
     },
     "metadata": {},
     "output_type": "display_data"
    }
   ],
   "source": [
    "benchmarks = [\n",
    "    (get_agent(), \"baseline\"), # Baseline agent with default settings\n",
    "    (get_agent(system_prompt=SUCCINCT_SQUAD_REACT_CODE_SYSTEM_PROMPT), \"succinct\"), # Succinct agent\n",
    "    (get_agent(system_prompt=FOCUSED_SQUAD_REACT_CODE_SYSTEM_PROMPT), \"focused\"), # Focused agent\n",
    "]\n",
    "\n",
    "for agent, name in tqdm(benchmarks):\n",
    "    benchmark_agent(agent, dfSample, name)"
   ]
  },
  {
   "cell_type": "code",
   "execution_count": 23,
   "metadata": {},
   "outputs": [
    {
     "data": {
      "text/markdown": [
       "## focused"
      ],
      "text/plain": [
       "<IPython.core.display.Markdown object>"
      ]
     },
     "metadata": {},
     "output_type": "display_data"
    },
    {
     "data": {
      "text/markdown": [
       "### Mean similarity: 0.89"
      ],
      "text/plain": [
       "<IPython.core.display.Markdown object>"
      ]
     },
     "metadata": {},
     "output_type": "display_data"
    },
    {
     "data": {
      "text/html": [
       "<style type=\"text/css\">\n",
       "#T_6cf6d th {\n",
       "  text-align: left;\n",
       "}\n",
       "#T_6cf6d td {\n",
       "  text-align: left;\n",
       "}\n",
       "#T_6cf6d_row0_col0, #T_6cf6d_row0_col1, #T_6cf6d_row0_col2, #T_6cf6d_row0_col3, #T_6cf6d_row0_col4, #T_6cf6d_row0_col5, #T_6cf6d_row0_col6, #T_6cf6d_row1_col0, #T_6cf6d_row1_col1, #T_6cf6d_row1_col2, #T_6cf6d_row1_col3, #T_6cf6d_row1_col4, #T_6cf6d_row1_col5, #T_6cf6d_row1_col6, #T_6cf6d_row2_col0, #T_6cf6d_row2_col1, #T_6cf6d_row2_col2, #T_6cf6d_row2_col3, #T_6cf6d_row2_col4, #T_6cf6d_row2_col5, #T_6cf6d_row2_col6, #T_6cf6d_row3_col0, #T_6cf6d_row3_col1, #T_6cf6d_row3_col2, #T_6cf6d_row3_col3, #T_6cf6d_row3_col4, #T_6cf6d_row3_col5, #T_6cf6d_row3_col6, #T_6cf6d_row4_col0, #T_6cf6d_row4_col1, #T_6cf6d_row4_col2, #T_6cf6d_row4_col3, #T_6cf6d_row4_col4, #T_6cf6d_row4_col5, #T_6cf6d_row4_col6, #T_6cf6d_row5_col0, #T_6cf6d_row5_col1, #T_6cf6d_row5_col2, #T_6cf6d_row5_col3, #T_6cf6d_row5_col4, #T_6cf6d_row5_col5, #T_6cf6d_row5_col6, #T_6cf6d_row6_col0, #T_6cf6d_row6_col1, #T_6cf6d_row6_col2, #T_6cf6d_row6_col3, #T_6cf6d_row6_col4, #T_6cf6d_row6_col5, #T_6cf6d_row6_col6, #T_6cf6d_row7_col0, #T_6cf6d_row7_col1, #T_6cf6d_row7_col2, #T_6cf6d_row7_col3, #T_6cf6d_row7_col4, #T_6cf6d_row7_col5, #T_6cf6d_row7_col6, #T_6cf6d_row8_col0, #T_6cf6d_row8_col1, #T_6cf6d_row8_col2, #T_6cf6d_row8_col3, #T_6cf6d_row8_col4, #T_6cf6d_row8_col5, #T_6cf6d_row8_col6, #T_6cf6d_row9_col0, #T_6cf6d_row9_col1, #T_6cf6d_row9_col2, #T_6cf6d_row9_col3, #T_6cf6d_row9_col4, #T_6cf6d_row9_col5, #T_6cf6d_row9_col6 {\n",
       "  white-space: pre-wrap;\n",
       "}\n",
       "</style>\n",
       "<table id=\"T_6cf6d\">\n",
       "  <thead>\n",
       "    <tr>\n",
       "      <th id=\"T_6cf6d_level0_col0\" class=\"col_heading level0 col0\" >Title</th>\n",
       "      <th id=\"T_6cf6d_level0_col1\" class=\"col_heading level0 col1\" >Context</th>\n",
       "      <th id=\"T_6cf6d_level0_col2\" class=\"col_heading level0 col2\" >Question</th>\n",
       "      <th id=\"T_6cf6d_level0_col3\" class=\"col_heading level0 col3\" >Answer</th>\n",
       "      <th id=\"T_6cf6d_level0_col4\" class=\"col_heading level0 col4\" >Synthesized Question</th>\n",
       "      <th id=\"T_6cf6d_level0_col5\" class=\"col_heading level0 col5\" >Predicted Answer</th>\n",
       "      <th id=\"T_6cf6d_level0_col6\" class=\"col_heading level0 col6\" >Similarity</th>\n",
       "    </tr>\n",
       "  </thead>\n",
       "  <tbody>\n",
       "    <tr>\n",
       "      <td id=\"T_6cf6d_row0_col0\" class=\"data row0 col0\" >Institute_of_technology</td>\n",
       "      <td id=\"T_6cf6d_row0_col1\" class=\"data row0 col1\" >The world's first institution of technology or technical university with tertiary technical education is the Banská Akadémia in Banská Štiavnica, Slovakia, founded in 1735, Academy since December 13, 1762 established by queen Maria Theresa in order to train specialists of silver and gold mining and metallurgy in neighbourhood. Teaching started in 1764. Later the department of Mathematics, Mechanics and Hydraulics and department of Forestry were settled. University buildings are still at their place today and are used for teaching. University has launched the first book of electrotechnics in the world.</td>\n",
       "      <td id=\"T_6cf6d_row0_col2\" class=\"data row0 col2\" >What year was the Banská Akadémia founded?</td>\n",
       "      <td id=\"T_6cf6d_row0_col3\" class=\"data row0 col3\" >1735</td>\n",
       "      <td id=\"T_6cf6d_row0_col4\" class=\"data row0 col4\" >What year was the Banská Akadémia, the world's first institution of technology, founded in Banská Štiavnica, Slovakia?</td>\n",
       "      <td id=\"T_6cf6d_row0_col5\" class=\"data row0 col5\" >1735</td>\n",
       "      <td id=\"T_6cf6d_row0_col6\" class=\"data row0 col6\" >1.000000</td>\n",
       "    </tr>\n",
       "    <tr>\n",
       "      <td id=\"T_6cf6d_row1_col0\" class=\"data row1 col0\" >Film_speed</td>\n",
       "      <td id=\"T_6cf6d_row1_col1\" class=\"data row1 col1\" >The standard specifies how speed ratings should be reported by the camera. If the noise-based speed (40:1) is higher than the saturation-based speed, the noise-based speed should be reported, rounded downwards to a standard value (e.g. 200, 250, 320, or 400). The rationale is that exposure according to the lower saturation-based speed would not result in a visibly better image. In addition, an exposure latitude can be specified, ranging from the saturation-based speed to the 10:1 noise-based speed. If the noise-based speed (40:1) is lower than the saturation-based speed, or undefined because of high noise, the saturation-based speed is specified, rounded upwards to a standard value, because using the noise-based speed would lead to overexposed images. The camera may also report the SOS-based speed (explicitly as being an SOS speed), rounded to the nearest standard speed rating.</td>\n",
       "      <td id=\"T_6cf6d_row1_col2\" class=\"data row1 col2\" >What is another speed that can also be reported by the camera?</td>\n",
       "      <td id=\"T_6cf6d_row1_col3\" class=\"data row1 col3\" >SOS-based speed</td>\n",
       "      <td id=\"T_6cf6d_row1_col4\" class=\"data row1 col4\" >What is another speed, besides the noise-based and saturation-based speeds, that can also be reported by the camera according to the film speed standards?</td>\n",
       "      <td id=\"T_6cf6d_row1_col5\" class=\"data row1 col5\" >SOS-based speed</td>\n",
       "      <td id=\"T_6cf6d_row1_col6\" class=\"data row1 col6\" >1.000000</td>\n",
       "    </tr>\n",
       "    <tr>\n",
       "      <td id=\"T_6cf6d_row2_col0\" class=\"data row2 col0\" >Sumer</td>\n",
       "      <td id=\"T_6cf6d_row2_col1\" class=\"data row2 col1\" >The most impressive and famous of Sumerian buildings are the ziggurats, large layered platforms which supported temples. Sumerian cylinder seals also depict houses built from reeds not unlike those built by the Marsh Arabs of Southern Iraq until as recently as 400 CE. The Sumerians also developed the arch, which enabled them to develop a strong type of dome. They built this by constructing and linking several arches. Sumerian temples and palaces made use of more advanced materials and techniques,[citation needed] such as buttresses, recesses, half columns, and clay nails.</td>\n",
       "      <td id=\"T_6cf6d_row2_col2\" class=\"data row2 col2\" >Where were the use of advanced materials and techniques on display in Sumer?</td>\n",
       "      <td id=\"T_6cf6d_row2_col3\" class=\"data row2 col3\" >Sumerian temples and palaces</td>\n",
       "      <td id=\"T_6cf6d_row2_col4\" class=\"data row2 col4\" >Where were the advanced materials and techniques, such as buttresses and arches, used in the construction of temples and palaces in Sumer?</td>\n",
       "      <td id=\"T_6cf6d_row2_col5\" class=\"data row2 col5\" >Sumerian temples and palaces.</td>\n",
       "      <td id=\"T_6cf6d_row2_col6\" class=\"data row2 col6\" >0.958309</td>\n",
       "    </tr>\n",
       "    <tr>\n",
       "      <td id=\"T_6cf6d_row3_col0\" class=\"data row3 col0\" >Ann_Arbor,_Michigan</td>\n",
       "      <td id=\"T_6cf6d_row3_col1\" class=\"data row3 col1\" >Ann Arbor has a council-manager form of government. The City Council has 11 voting members: the mayor and 10 city council members. The mayor and city council members serve two-year terms: the mayor is elected every even-numbered year, while half of the city council members are up for election annually (five in even-numbered and five in odd-numbered years). Two council members are elected from each of the city's five wards. The mayor is elected citywide. The mayor is the presiding officer of the City Council and has the power to appoint all Council committee members as well as board and commission members, with the approval of the City Council. The current mayor of Ann Arbor is Christopher Taylor, a Democrat who was elected as mayor in 2014. Day-to-day city operations are managed by a city administrator chosen by the city council.</td>\n",
       "      <td id=\"T_6cf6d_row3_col2\" class=\"data row3 col2\" >Who is elected every even numbered year?</td>\n",
       "      <td id=\"T_6cf6d_row3_col3\" class=\"data row3 col3\" >mayor</td>\n",
       "      <td id=\"T_6cf6d_row3_col4\" class=\"data row3 col4\" >Who is elected as mayor in Ann Arbor every even-numbered year?</td>\n",
       "      <td id=\"T_6cf6d_row3_col5\" class=\"data row3 col5\" >Christopher Taylor</td>\n",
       "      <td id=\"T_6cf6d_row3_col6\" class=\"data row3 col6\" >0.288215</td>\n",
       "    </tr>\n",
       "    <tr>\n",
       "      <td id=\"T_6cf6d_row4_col0\" class=\"data row4 col0\" >John_von_Neumann</td>\n",
       "      <td id=\"T_6cf6d_row4_col1\" class=\"data row4 col1\" >Shortly before his death, when he was already quite ill, von Neumann headed the United States government's top secret ICBM committee, and it would sometimes meet in his home. Its purpose was to decide on the feasibility of building an ICBM large enough to carry a thermonuclear weapon. Von Neumann had long argued that while the technical obstacles were sizable, they could be overcome in time. The SM-65 Atlas passed its first fully functional test in 1959, two years after his death. The feasibility of an ICBM owed as much to improved, smaller warheads as it did to developments in rocketry, and his understanding of the former made his advice invaluable.</td>\n",
       "      <td id=\"T_6cf6d_row4_col2\" class=\"data row4 col2\" >What was the purpose of top secret ICBM committee?</td>\n",
       "      <td id=\"T_6cf6d_row4_col3\" class=\"data row4 col3\" >decide on the feasibility of building an ICBM large enough to carry a thermonuclear weapon</td>\n",
       "      <td id=\"T_6cf6d_row4_col4\" class=\"data row4 col4\" >What was the purpose of the top secret ICBM committee that John von Neumann headed shortly before his death?</td>\n",
       "      <td id=\"T_6cf6d_row4_col5\" class=\"data row4 col5\" >To decide on the feasibility of building an ICBM large enough to carry a thermonuclear weapon.</td>\n",
       "      <td id=\"T_6cf6d_row4_col6\" class=\"data row4 col6\" >0.634684</td>\n",
       "    </tr>\n",
       "    <tr>\n",
       "      <td id=\"T_6cf6d_row5_col0\" class=\"data row5 col0\" >Pope_Paul_VI</td>\n",
       "      <td id=\"T_6cf6d_row5_col1\" class=\"data row5 col1\" >Some critiqued Paul VI's decision; the newly created Synod of Bishops had an advisory role only and could not make decisions on their own, although the Council decided exactly that. During the pontificate of Paul VI, five such synods took place, and he is on record of implementing all their decisions. Related questions were raised about the new National Bishop Conferences, which became mandatory after Vatican II. Others questioned his Ostpolitik and contacts with Communism and the deals he engaged in for the faithful.</td>\n",
       "      <td id=\"T_6cf6d_row5_col2\" class=\"data row5 col2\" >What conferences became a requirement after Vatican II?</td>\n",
       "      <td id=\"T_6cf6d_row5_col3\" class=\"data row5 col3\" >National Bishop Conferences</td>\n",
       "      <td id=\"T_6cf6d_row5_col4\" class=\"data row5 col4\" >What National Bishop Conferences became a requirement after Vatican II during the pontificate of Pope Paul VI?</td>\n",
       "      <td id=\"T_6cf6d_row5_col5\" class=\"data row5 col5\" >National Bishop Conferences</td>\n",
       "      <td id=\"T_6cf6d_row5_col6\" class=\"data row5 col6\" >1.000000</td>\n",
       "    </tr>\n",
       "    <tr>\n",
       "      <td id=\"T_6cf6d_row6_col0\" class=\"data row6 col0\" >Spectre_(2015_film)</td>\n",
       "      <td id=\"T_6cf6d_row6_col1\" class=\"data row6 col1\" >Bond and Swann return to London where they meet M, Bill Tanner, Q, and Moneypenny; they intend to arrest C and stop Nine Eyes from going online. Swann leaves Bond, telling him she cannot be part of a life involving espionage, and is subsequently kidnapped. On the way, the group is ambushed and Bond is kidnapped, but the rest still proceed with the plan. After Q succeeds in preventing the Nine Eyes from going online, a brief struggle between M and C ends with the latter falling to his death. Meanwhile, Bond is taken to the old MI6 building, which is scheduled for demolition, and frees himself. Moving throughout the ruined labyrinth, he encounters a disfigured Blofeld, who tells him that he has three minutes to escape the building before explosives are detonated or die trying to save Swann. Bond finds Swann and the two escape by boat as the building collapses. Bond shoots down Blofeld's helicopter, which crashes onto Westminster Bridge. As Blofeld crawls away from the wreckage, Bond confronts him but ultimately leaves him to be arrested by M. Bond leaves the bridge with Swann.</td>\n",
       "      <td id=\"T_6cf6d_row6_col2\" class=\"data row6 col2\" >Who does M fight with?</td>\n",
       "      <td id=\"T_6cf6d_row6_col3\" class=\"data row6 col3\" >C</td>\n",
       "      <td id=\"T_6cf6d_row6_col4\" class=\"data row6 col4\" >Who does M struggle with during the events of the film Spectre (2015)?</td>\n",
       "      <td id=\"T_6cf6d_row6_col5\" class=\"data row6 col5\" >C</td>\n",
       "      <td id=\"T_6cf6d_row6_col6\" class=\"data row6 col6\" >1.000000</td>\n",
       "    </tr>\n",
       "    <tr>\n",
       "      <td id=\"T_6cf6d_row7_col0\" class=\"data row7 col0\" >Antarctica</td>\n",
       "      <td id=\"T_6cf6d_row7_col1\" class=\"data row7 col1\" >About 1150 species of fungi have been recorded from Antarctica, of which about 750 are non-lichen-forming and 400 are lichen-forming. Some of these species are cryptoendoliths as a result of evolution under extreme conditions, and have significantly contributed to shaping the impressive rock formations of the McMurdo Dry Valleys and surrounding mountain ridges. The apparently simple morphology, scarcely differentiated structures, metabolic systems and enzymes still active at very low temperatures, and reduced life cycles shown by such fungi make them particularly suited to harsh environments such as the McMurdo Dry Valleys. In particular, their thick-walled and strongly melanized cells make them resistant to UV light. Those features can also be observed in algae and cyanobacteria, suggesting that these are adaptations to the conditions prevailing in Antarctica. This has led to speculation that, if life ever occurred on Mars, it might have looked similar to Antarctic fungi such as Cryomyces minteri. Some of these fungi are also apparently endemic to Antarctica. Endemic Antarctic fungi also include certain dung-inhabiting species which have had to evolve in response to the double challenge of extreme cold while growing on dung, and the need to survive passage through the gut of warm-blooded animals.</td>\n",
       "      <td id=\"T_6cf6d_row7_col2\" class=\"data row7 col2\" >How many species of fungi have been found on Antarctica?</td>\n",
       "      <td id=\"T_6cf6d_row7_col3\" class=\"data row7 col3\" >1150</td>\n",
       "      <td id=\"T_6cf6d_row7_col4\" class=\"data row7 col4\" >How many species of fungi have been recorded in Antarctica, including both non-lichen-forming and lichen-forming species?</td>\n",
       "      <td id=\"T_6cf6d_row7_col5\" class=\"data row7 col5\" >1150</td>\n",
       "      <td id=\"T_6cf6d_row7_col6\" class=\"data row7 col6\" >1.000000</td>\n",
       "    </tr>\n",
       "    <tr>\n",
       "      <td id=\"T_6cf6d_row8_col0\" class=\"data row8 col0\" >North_Carolina</td>\n",
       "      <td id=\"T_6cf6d_row8_col1\" class=\"data row8 col1\" >In the Battle of Cowan's Ford, Cornwallis met resistance along the banks of the Catawba River at Cowan's Ford on February 1, 1781, in an attempt to engage General Morgan's forces during a tactical withdrawal. Morgan had moved to the northern part of the state to combine with General Greene's newly recruited forces. Generals Greene and Cornwallis finally met at the Battle of Guilford Courthouse in present-day Greensboro on March 15, 1781. Although the British troops held the field at the end of the battle, their casualties at the hands of the numerically superior Continental Army were crippling. Following this \"Pyrrhic victory\", Cornwallis chose to move to the Virginia coastline to get reinforcements, and to allow the Royal Navy to protect his battered army. This decision would result in Cornwallis' eventual defeat at Yorktown, Virginia, later in 1781. The Patriots' victory there guaranteed American independence.</td>\n",
       "      <td id=\"T_6cf6d_row8_col2\" class=\"data row8 col2\" >After losing the battle of Guilford Courthouse, Cornawallis moved his troops where?</td>\n",
       "      <td id=\"T_6cf6d_row8_col3\" class=\"data row8 col3\" >Virginia coastline</td>\n",
       "      <td id=\"T_6cf6d_row8_col4\" class=\"data row8 col4\" >After losing the Battle of Guilford Courthouse, where did Cornwallis move his troops to seek reinforcements and protection from the Royal Navy?</td>\n",
       "      <td id=\"T_6cf6d_row8_col5\" class=\"data row8 col5\" >Virginia coastline</td>\n",
       "      <td id=\"T_6cf6d_row8_col6\" class=\"data row8 col6\" >1.000000</td>\n",
       "    </tr>\n",
       "    <tr>\n",
       "      <td id=\"T_6cf6d_row9_col0\" class=\"data row9 col0\" >2008_Summer_Olympics_torch_relay</td>\n",
       "      <td id=\"T_6cf6d_row9_col1\" class=\"data row9 col1\" >The Olympic Torch is based on traditional scrolls and uses a traditional Chinese design known as \"Lucky Cloud\". It is made from aluminum. It is 72 centimetres high and weighs 985 grams. The torch is designed to remain lit in 65 kilometre per hour (37 mile per hour) winds, and in rain of up to 50 millimetres (2 inches) per hour. An ignition key is used to ignite and extinguish the flame. The torch is fueled by cans of propane. Each can will light the torch for 15 minutes. It is designed by a team from Lenovo Group. The Torch is designed in reference to the traditional Chinese concept of the 5 elements that make up the entire universe.</td>\n",
       "      <td id=\"T_6cf6d_row9_col2\" class=\"data row9 col2\" >What is the Olympic Torch made from?</td>\n",
       "      <td id=\"T_6cf6d_row9_col3\" class=\"data row9 col3\" >aluminum.</td>\n",
       "      <td id=\"T_6cf6d_row9_col4\" class=\"data row9 col4\" >What material is the Olympic Torch made from in the 2008 Summer Olympics torch relay?</td>\n",
       "      <td id=\"T_6cf6d_row9_col5\" class=\"data row9 col5\" >aluminum</td>\n",
       "      <td id=\"T_6cf6d_row9_col6\" class=\"data row9 col6\" >0.973508</td>\n",
       "    </tr>\n",
       "  </tbody>\n",
       "</table>\n"
      ],
      "text/plain": [
       "<pandas.io.formats.style.Styler at 0x35160bda0>"
      ]
     },
     "metadata": {},
     "output_type": "display_data"
    },
    {
     "data": {
      "text/markdown": [
       "## succinct"
      ],
      "text/plain": [
       "<IPython.core.display.Markdown object>"
      ]
     },
     "metadata": {},
     "output_type": "display_data"
    },
    {
     "data": {
      "text/markdown": [
       "### Mean similarity: 0.79"
      ],
      "text/plain": [
       "<IPython.core.display.Markdown object>"
      ]
     },
     "metadata": {},
     "output_type": "display_data"
    },
    {
     "data": {
      "text/html": [
       "<style type=\"text/css\">\n",
       "#T_dbeb6 th {\n",
       "  text-align: left;\n",
       "}\n",
       "#T_dbeb6 td {\n",
       "  text-align: left;\n",
       "}\n",
       "#T_dbeb6_row0_col0, #T_dbeb6_row0_col1, #T_dbeb6_row0_col2, #T_dbeb6_row0_col3, #T_dbeb6_row0_col4, #T_dbeb6_row0_col5, #T_dbeb6_row0_col6, #T_dbeb6_row1_col0, #T_dbeb6_row1_col1, #T_dbeb6_row1_col2, #T_dbeb6_row1_col3, #T_dbeb6_row1_col4, #T_dbeb6_row1_col5, #T_dbeb6_row1_col6, #T_dbeb6_row2_col0, #T_dbeb6_row2_col1, #T_dbeb6_row2_col2, #T_dbeb6_row2_col3, #T_dbeb6_row2_col4, #T_dbeb6_row2_col5, #T_dbeb6_row2_col6, #T_dbeb6_row3_col0, #T_dbeb6_row3_col1, #T_dbeb6_row3_col2, #T_dbeb6_row3_col3, #T_dbeb6_row3_col4, #T_dbeb6_row3_col5, #T_dbeb6_row3_col6, #T_dbeb6_row4_col0, #T_dbeb6_row4_col1, #T_dbeb6_row4_col2, #T_dbeb6_row4_col3, #T_dbeb6_row4_col4, #T_dbeb6_row4_col5, #T_dbeb6_row4_col6, #T_dbeb6_row5_col0, #T_dbeb6_row5_col1, #T_dbeb6_row5_col2, #T_dbeb6_row5_col3, #T_dbeb6_row5_col4, #T_dbeb6_row5_col5, #T_dbeb6_row5_col6, #T_dbeb6_row6_col0, #T_dbeb6_row6_col1, #T_dbeb6_row6_col2, #T_dbeb6_row6_col3, #T_dbeb6_row6_col4, #T_dbeb6_row6_col5, #T_dbeb6_row6_col6, #T_dbeb6_row7_col0, #T_dbeb6_row7_col1, #T_dbeb6_row7_col2, #T_dbeb6_row7_col3, #T_dbeb6_row7_col4, #T_dbeb6_row7_col5, #T_dbeb6_row7_col6, #T_dbeb6_row8_col0, #T_dbeb6_row8_col1, #T_dbeb6_row8_col2, #T_dbeb6_row8_col3, #T_dbeb6_row8_col4, #T_dbeb6_row8_col5, #T_dbeb6_row8_col6, #T_dbeb6_row9_col0, #T_dbeb6_row9_col1, #T_dbeb6_row9_col2, #T_dbeb6_row9_col3, #T_dbeb6_row9_col4, #T_dbeb6_row9_col5, #T_dbeb6_row9_col6 {\n",
       "  white-space: pre-wrap;\n",
       "}\n",
       "</style>\n",
       "<table id=\"T_dbeb6\">\n",
       "  <thead>\n",
       "    <tr>\n",
       "      <th id=\"T_dbeb6_level0_col0\" class=\"col_heading level0 col0\" >Title</th>\n",
       "      <th id=\"T_dbeb6_level0_col1\" class=\"col_heading level0 col1\" >Context</th>\n",
       "      <th id=\"T_dbeb6_level0_col2\" class=\"col_heading level0 col2\" >Question</th>\n",
       "      <th id=\"T_dbeb6_level0_col3\" class=\"col_heading level0 col3\" >Answer</th>\n",
       "      <th id=\"T_dbeb6_level0_col4\" class=\"col_heading level0 col4\" >Synthesized Question</th>\n",
       "      <th id=\"T_dbeb6_level0_col5\" class=\"col_heading level0 col5\" >Predicted Answer</th>\n",
       "      <th id=\"T_dbeb6_level0_col6\" class=\"col_heading level0 col6\" >Similarity</th>\n",
       "    </tr>\n",
       "  </thead>\n",
       "  <tbody>\n",
       "    <tr>\n",
       "      <td id=\"T_dbeb6_row0_col0\" class=\"data row0 col0\" >Institute_of_technology</td>\n",
       "      <td id=\"T_dbeb6_row0_col1\" class=\"data row0 col1\" >The world's first institution of technology or technical university with tertiary technical education is the Banská Akadémia in Banská Štiavnica, Slovakia, founded in 1735, Academy since December 13, 1762 established by queen Maria Theresa in order to train specialists of silver and gold mining and metallurgy in neighbourhood. Teaching started in 1764. Later the department of Mathematics, Mechanics and Hydraulics and department of Forestry were settled. University buildings are still at their place today and are used for teaching. University has launched the first book of electrotechnics in the world.</td>\n",
       "      <td id=\"T_dbeb6_row0_col2\" class=\"data row0 col2\" >What year was the Banská Akadémia founded?</td>\n",
       "      <td id=\"T_dbeb6_row0_col3\" class=\"data row0 col3\" >1735</td>\n",
       "      <td id=\"T_dbeb6_row0_col4\" class=\"data row0 col4\" >What year was the Banská Akadémia, the world's first institution of technology, founded in Banská Štiavnica, Slovakia?</td>\n",
       "      <td id=\"T_dbeb6_row0_col5\" class=\"data row0 col5\" >1735</td>\n",
       "      <td id=\"T_dbeb6_row0_col6\" class=\"data row0 col6\" >1.000000</td>\n",
       "    </tr>\n",
       "    <tr>\n",
       "      <td id=\"T_dbeb6_row1_col0\" class=\"data row1 col0\" >Film_speed</td>\n",
       "      <td id=\"T_dbeb6_row1_col1\" class=\"data row1 col1\" >The standard specifies how speed ratings should be reported by the camera. If the noise-based speed (40:1) is higher than the saturation-based speed, the noise-based speed should be reported, rounded downwards to a standard value (e.g. 200, 250, 320, or 400). The rationale is that exposure according to the lower saturation-based speed would not result in a visibly better image. In addition, an exposure latitude can be specified, ranging from the saturation-based speed to the 10:1 noise-based speed. If the noise-based speed (40:1) is lower than the saturation-based speed, or undefined because of high noise, the saturation-based speed is specified, rounded upwards to a standard value, because using the noise-based speed would lead to overexposed images. The camera may also report the SOS-based speed (explicitly as being an SOS speed), rounded to the nearest standard speed rating.</td>\n",
       "      <td id=\"T_dbeb6_row1_col2\" class=\"data row1 col2\" >What is another speed that can also be reported by the camera?</td>\n",
       "      <td id=\"T_dbeb6_row1_col3\" class=\"data row1 col3\" >SOS-based speed</td>\n",
       "      <td id=\"T_dbeb6_row1_col4\" class=\"data row1 col4\" >What is another speed, besides the noise-based and saturation-based speeds, that can also be reported by the camera according to the film speed standards?</td>\n",
       "      <td id=\"T_dbeb6_row1_col5\" class=\"data row1 col5\" >SOS-based speed</td>\n",
       "      <td id=\"T_dbeb6_row1_col6\" class=\"data row1 col6\" >1.000000</td>\n",
       "    </tr>\n",
       "    <tr>\n",
       "      <td id=\"T_dbeb6_row2_col0\" class=\"data row2 col0\" >Sumer</td>\n",
       "      <td id=\"T_dbeb6_row2_col1\" class=\"data row2 col1\" >The most impressive and famous of Sumerian buildings are the ziggurats, large layered platforms which supported temples. Sumerian cylinder seals also depict houses built from reeds not unlike those built by the Marsh Arabs of Southern Iraq until as recently as 400 CE. The Sumerians also developed the arch, which enabled them to develop a strong type of dome. They built this by constructing and linking several arches. Sumerian temples and palaces made use of more advanced materials and techniques,[citation needed] such as buttresses, recesses, half columns, and clay nails.</td>\n",
       "      <td id=\"T_dbeb6_row2_col2\" class=\"data row2 col2\" >Where were the use of advanced materials and techniques on display in Sumer?</td>\n",
       "      <td id=\"T_dbeb6_row2_col3\" class=\"data row2 col3\" >Sumerian temples and palaces</td>\n",
       "      <td id=\"T_dbeb6_row2_col4\" class=\"data row2 col4\" >Where were the advanced materials and techniques, such as buttresses and arches, used in the construction of temples and palaces in Sumer?</td>\n",
       "      <td id=\"T_dbeb6_row2_col5\" class=\"data row2 col5\" >Sumerian temples and palaces</td>\n",
       "      <td id=\"T_dbeb6_row2_col6\" class=\"data row2 col6\" >1.000000</td>\n",
       "    </tr>\n",
       "    <tr>\n",
       "      <td id=\"T_dbeb6_row3_col0\" class=\"data row3 col0\" >Ann_Arbor,_Michigan</td>\n",
       "      <td id=\"T_dbeb6_row3_col1\" class=\"data row3 col1\" >Ann Arbor has a council-manager form of government. The City Council has 11 voting members: the mayor and 10 city council members. The mayor and city council members serve two-year terms: the mayor is elected every even-numbered year, while half of the city council members are up for election annually (five in even-numbered and five in odd-numbered years). Two council members are elected from each of the city's five wards. The mayor is elected citywide. The mayor is the presiding officer of the City Council and has the power to appoint all Council committee members as well as board and commission members, with the approval of the City Council. The current mayor of Ann Arbor is Christopher Taylor, a Democrat who was elected as mayor in 2014. Day-to-day city operations are managed by a city administrator chosen by the city council.</td>\n",
       "      <td id=\"T_dbeb6_row3_col2\" class=\"data row3 col2\" >Who is elected every even numbered year?</td>\n",
       "      <td id=\"T_dbeb6_row3_col3\" class=\"data row3 col3\" >mayor</td>\n",
       "      <td id=\"T_dbeb6_row3_col4\" class=\"data row3 col4\" >Who is elected as mayor in Ann Arbor every even-numbered year?</td>\n",
       "      <td id=\"T_dbeb6_row3_col5\" class=\"data row3 col5\" >Christopher Taylor</td>\n",
       "      <td id=\"T_dbeb6_row3_col6\" class=\"data row3 col6\" >0.288214</td>\n",
       "    </tr>\n",
       "    <tr>\n",
       "      <td id=\"T_dbeb6_row4_col0\" class=\"data row4 col0\" >John_von_Neumann</td>\n",
       "      <td id=\"T_dbeb6_row4_col1\" class=\"data row4 col1\" >Shortly before his death, when he was already quite ill, von Neumann headed the United States government's top secret ICBM committee, and it would sometimes meet in his home. Its purpose was to decide on the feasibility of building an ICBM large enough to carry a thermonuclear weapon. Von Neumann had long argued that while the technical obstacles were sizable, they could be overcome in time. The SM-65 Atlas passed its first fully functional test in 1959, two years after his death. The feasibility of an ICBM owed as much to improved, smaller warheads as it did to developments in rocketry, and his understanding of the former made his advice invaluable.</td>\n",
       "      <td id=\"T_dbeb6_row4_col2\" class=\"data row4 col2\" >What was the purpose of top secret ICBM committee?</td>\n",
       "      <td id=\"T_dbeb6_row4_col3\" class=\"data row4 col3\" >decide on the feasibility of building an ICBM large enough to carry a thermonuclear weapon</td>\n",
       "      <td id=\"T_dbeb6_row4_col4\" class=\"data row4 col4\" >What was the purpose of the top secret ICBM committee that John von Neumann headed shortly before his death?</td>\n",
       "      <td id=\"T_dbeb6_row4_col5\" class=\"data row4 col5\" >The purpose of the top secret ICBM committee was to decide on the feasibility of building an ICBM large enough to carry a thermonuclear weapon.</td>\n",
       "      <td id=\"T_dbeb6_row4_col6\" class=\"data row4 col6\" >0.687334</td>\n",
       "    </tr>\n",
       "    <tr>\n",
       "      <td id=\"T_dbeb6_row5_col0\" class=\"data row5 col0\" >Pope_Paul_VI</td>\n",
       "      <td id=\"T_dbeb6_row5_col1\" class=\"data row5 col1\" >Some critiqued Paul VI's decision; the newly created Synod of Bishops had an advisory role only and could not make decisions on their own, although the Council decided exactly that. During the pontificate of Paul VI, five such synods took place, and he is on record of implementing all their decisions. Related questions were raised about the new National Bishop Conferences, which became mandatory after Vatican II. Others questioned his Ostpolitik and contacts with Communism and the deals he engaged in for the faithful.</td>\n",
       "      <td id=\"T_dbeb6_row5_col2\" class=\"data row5 col2\" >What conferences became a requirement after Vatican II?</td>\n",
       "      <td id=\"T_dbeb6_row5_col3\" class=\"data row5 col3\" >National Bishop Conferences</td>\n",
       "      <td id=\"T_dbeb6_row5_col4\" class=\"data row5 col4\" >What National Bishop Conferences became a requirement after Vatican II during the pontificate of Pope Paul VI?</td>\n",
       "      <td id=\"T_dbeb6_row5_col5\" class=\"data row5 col5\" >National Bishop Conferences</td>\n",
       "      <td id=\"T_dbeb6_row5_col6\" class=\"data row5 col6\" >1.000000</td>\n",
       "    </tr>\n",
       "    <tr>\n",
       "      <td id=\"T_dbeb6_row6_col0\" class=\"data row6 col0\" >Spectre_(2015_film)</td>\n",
       "      <td id=\"T_dbeb6_row6_col1\" class=\"data row6 col1\" >Bond and Swann return to London where they meet M, Bill Tanner, Q, and Moneypenny; they intend to arrest C and stop Nine Eyes from going online. Swann leaves Bond, telling him she cannot be part of a life involving espionage, and is subsequently kidnapped. On the way, the group is ambushed and Bond is kidnapped, but the rest still proceed with the plan. After Q succeeds in preventing the Nine Eyes from going online, a brief struggle between M and C ends with the latter falling to his death. Meanwhile, Bond is taken to the old MI6 building, which is scheduled for demolition, and frees himself. Moving throughout the ruined labyrinth, he encounters a disfigured Blofeld, who tells him that he has three minutes to escape the building before explosives are detonated or die trying to save Swann. Bond finds Swann and the two escape by boat as the building collapses. Bond shoots down Blofeld's helicopter, which crashes onto Westminster Bridge. As Blofeld crawls away from the wreckage, Bond confronts him but ultimately leaves him to be arrested by M. Bond leaves the bridge with Swann.</td>\n",
       "      <td id=\"T_dbeb6_row6_col2\" class=\"data row6 col2\" >Who does M fight with?</td>\n",
       "      <td id=\"T_dbeb6_row6_col3\" class=\"data row6 col3\" >C</td>\n",
       "      <td id=\"T_dbeb6_row6_col4\" class=\"data row6 col4\" >Who does M struggle with during the events of the film Spectre (2015)?</td>\n",
       "      <td id=\"T_dbeb6_row6_col5\" class=\"data row6 col5\" >C</td>\n",
       "      <td id=\"T_dbeb6_row6_col6\" class=\"data row6 col6\" >1.000000</td>\n",
       "    </tr>\n",
       "    <tr>\n",
       "      <td id=\"T_dbeb6_row7_col0\" class=\"data row7 col0\" >Antarctica</td>\n",
       "      <td id=\"T_dbeb6_row7_col1\" class=\"data row7 col1\" >About 1150 species of fungi have been recorded from Antarctica, of which about 750 are non-lichen-forming and 400 are lichen-forming. Some of these species are cryptoendoliths as a result of evolution under extreme conditions, and have significantly contributed to shaping the impressive rock formations of the McMurdo Dry Valleys and surrounding mountain ridges. The apparently simple morphology, scarcely differentiated structures, metabolic systems and enzymes still active at very low temperatures, and reduced life cycles shown by such fungi make them particularly suited to harsh environments such as the McMurdo Dry Valleys. In particular, their thick-walled and strongly melanized cells make them resistant to UV light. Those features can also be observed in algae and cyanobacteria, suggesting that these are adaptations to the conditions prevailing in Antarctica. This has led to speculation that, if life ever occurred on Mars, it might have looked similar to Antarctic fungi such as Cryomyces minteri. Some of these fungi are also apparently endemic to Antarctica. Endemic Antarctic fungi also include certain dung-inhabiting species which have had to evolve in response to the double challenge of extreme cold while growing on dung, and the need to survive passage through the gut of warm-blooded animals.</td>\n",
       "      <td id=\"T_dbeb6_row7_col2\" class=\"data row7 col2\" >How many species of fungi have been found on Antarctica?</td>\n",
       "      <td id=\"T_dbeb6_row7_col3\" class=\"data row7 col3\" >1150</td>\n",
       "      <td id=\"T_dbeb6_row7_col4\" class=\"data row7 col4\" >How many species of fungi have been recorded in Antarctica, including both non-lichen-forming and lichen-forming species?</td>\n",
       "      <td id=\"T_dbeb6_row7_col5\" class=\"data row7 col5\" >1150 species of fungi have been recorded in Antarctica, including both non-lichen-forming and lichen-forming species.</td>\n",
       "      <td id=\"T_dbeb6_row7_col6\" class=\"data row7 col6\" >-0.025606</td>\n",
       "    </tr>\n",
       "    <tr>\n",
       "      <td id=\"T_dbeb6_row8_col0\" class=\"data row8 col0\" >North_Carolina</td>\n",
       "      <td id=\"T_dbeb6_row8_col1\" class=\"data row8 col1\" >In the Battle of Cowan's Ford, Cornwallis met resistance along the banks of the Catawba River at Cowan's Ford on February 1, 1781, in an attempt to engage General Morgan's forces during a tactical withdrawal. Morgan had moved to the northern part of the state to combine with General Greene's newly recruited forces. Generals Greene and Cornwallis finally met at the Battle of Guilford Courthouse in present-day Greensboro on March 15, 1781. Although the British troops held the field at the end of the battle, their casualties at the hands of the numerically superior Continental Army were crippling. Following this \"Pyrrhic victory\", Cornwallis chose to move to the Virginia coastline to get reinforcements, and to allow the Royal Navy to protect his battered army. This decision would result in Cornwallis' eventual defeat at Yorktown, Virginia, later in 1781. The Patriots' victory there guaranteed American independence.</td>\n",
       "      <td id=\"T_dbeb6_row8_col2\" class=\"data row8 col2\" >After losing the battle of Guilford Courthouse, Cornawallis moved his troops where?</td>\n",
       "      <td id=\"T_dbeb6_row8_col3\" class=\"data row8 col3\" >Virginia coastline</td>\n",
       "      <td id=\"T_dbeb6_row8_col4\" class=\"data row8 col4\" >After losing the Battle of Guilford Courthouse, where did Cornwallis move his troops to seek reinforcements and protection from the Royal Navy?</td>\n",
       "      <td id=\"T_dbeb6_row8_col5\" class=\"data row8 col5\" >Virginia coastline</td>\n",
       "      <td id=\"T_dbeb6_row8_col6\" class=\"data row8 col6\" >1.000000</td>\n",
       "    </tr>\n",
       "    <tr>\n",
       "      <td id=\"T_dbeb6_row9_col0\" class=\"data row9 col0\" >2008_Summer_Olympics_torch_relay</td>\n",
       "      <td id=\"T_dbeb6_row9_col1\" class=\"data row9 col1\" >The Olympic Torch is based on traditional scrolls and uses a traditional Chinese design known as \"Lucky Cloud\". It is made from aluminum. It is 72 centimetres high and weighs 985 grams. The torch is designed to remain lit in 65 kilometre per hour (37 mile per hour) winds, and in rain of up to 50 millimetres (2 inches) per hour. An ignition key is used to ignite and extinguish the flame. The torch is fueled by cans of propane. Each can will light the torch for 15 minutes. It is designed by a team from Lenovo Group. The Torch is designed in reference to the traditional Chinese concept of the 5 elements that make up the entire universe.</td>\n",
       "      <td id=\"T_dbeb6_row9_col2\" class=\"data row9 col2\" >What is the Olympic Torch made from?</td>\n",
       "      <td id=\"T_dbeb6_row9_col3\" class=\"data row9 col3\" >aluminum.</td>\n",
       "      <td id=\"T_dbeb6_row9_col4\" class=\"data row9 col4\" >What material is the Olympic Torch made from in the 2008 Summer Olympics torch relay?</td>\n",
       "      <td id=\"T_dbeb6_row9_col5\" class=\"data row9 col5\" >aluminum</td>\n",
       "      <td id=\"T_dbeb6_row9_col6\" class=\"data row9 col6\" >0.973508</td>\n",
       "    </tr>\n",
       "  </tbody>\n",
       "</table>\n"
      ],
      "text/plain": [
       "<pandas.io.formats.style.Styler at 0x3516a0b60>"
      ]
     },
     "metadata": {},
     "output_type": "display_data"
    },
    {
     "data": {
      "text/markdown": [
       "## baseline"
      ],
      "text/plain": [
       "<IPython.core.display.Markdown object>"
      ]
     },
     "metadata": {},
     "output_type": "display_data"
    },
    {
     "data": {
      "text/markdown": [
       "### Mean similarity: 0.47"
      ],
      "text/plain": [
       "<IPython.core.display.Markdown object>"
      ]
     },
     "metadata": {},
     "output_type": "display_data"
    },
    {
     "data": {
      "text/html": [
       "<style type=\"text/css\">\n",
       "#T_873e6 th {\n",
       "  text-align: left;\n",
       "}\n",
       "#T_873e6 td {\n",
       "  text-align: left;\n",
       "}\n",
       "#T_873e6_row0_col0, #T_873e6_row0_col1, #T_873e6_row0_col2, #T_873e6_row0_col3, #T_873e6_row0_col4, #T_873e6_row0_col5, #T_873e6_row0_col6, #T_873e6_row1_col0, #T_873e6_row1_col1, #T_873e6_row1_col2, #T_873e6_row1_col3, #T_873e6_row1_col4, #T_873e6_row1_col5, #T_873e6_row1_col6, #T_873e6_row2_col0, #T_873e6_row2_col1, #T_873e6_row2_col2, #T_873e6_row2_col3, #T_873e6_row2_col4, #T_873e6_row2_col5, #T_873e6_row2_col6, #T_873e6_row3_col0, #T_873e6_row3_col1, #T_873e6_row3_col2, #T_873e6_row3_col3, #T_873e6_row3_col4, #T_873e6_row3_col5, #T_873e6_row3_col6, #T_873e6_row4_col0, #T_873e6_row4_col1, #T_873e6_row4_col2, #T_873e6_row4_col3, #T_873e6_row4_col4, #T_873e6_row4_col5, #T_873e6_row4_col6, #T_873e6_row5_col0, #T_873e6_row5_col1, #T_873e6_row5_col2, #T_873e6_row5_col3, #T_873e6_row5_col4, #T_873e6_row5_col5, #T_873e6_row5_col6, #T_873e6_row6_col0, #T_873e6_row6_col1, #T_873e6_row6_col2, #T_873e6_row6_col3, #T_873e6_row6_col4, #T_873e6_row6_col5, #T_873e6_row6_col6, #T_873e6_row7_col0, #T_873e6_row7_col1, #T_873e6_row7_col2, #T_873e6_row7_col3, #T_873e6_row7_col4, #T_873e6_row7_col5, #T_873e6_row7_col6, #T_873e6_row8_col0, #T_873e6_row8_col1, #T_873e6_row8_col2, #T_873e6_row8_col3, #T_873e6_row8_col4, #T_873e6_row8_col5, #T_873e6_row8_col6, #T_873e6_row9_col0, #T_873e6_row9_col1, #T_873e6_row9_col2, #T_873e6_row9_col3, #T_873e6_row9_col4, #T_873e6_row9_col5, #T_873e6_row9_col6 {\n",
       "  white-space: pre-wrap;\n",
       "}\n",
       "</style>\n",
       "<table id=\"T_873e6\">\n",
       "  <thead>\n",
       "    <tr>\n",
       "      <th id=\"T_873e6_level0_col0\" class=\"col_heading level0 col0\" >Title</th>\n",
       "      <th id=\"T_873e6_level0_col1\" class=\"col_heading level0 col1\" >Context</th>\n",
       "      <th id=\"T_873e6_level0_col2\" class=\"col_heading level0 col2\" >Question</th>\n",
       "      <th id=\"T_873e6_level0_col3\" class=\"col_heading level0 col3\" >Answer</th>\n",
       "      <th id=\"T_873e6_level0_col4\" class=\"col_heading level0 col4\" >Synthesized Question</th>\n",
       "      <th id=\"T_873e6_level0_col5\" class=\"col_heading level0 col5\" >Predicted Answer</th>\n",
       "      <th id=\"T_873e6_level0_col6\" class=\"col_heading level0 col6\" >Similarity</th>\n",
       "    </tr>\n",
       "  </thead>\n",
       "  <tbody>\n",
       "    <tr>\n",
       "      <td id=\"T_873e6_row0_col0\" class=\"data row0 col0\" >Institute_of_technology</td>\n",
       "      <td id=\"T_873e6_row0_col1\" class=\"data row0 col1\" >The world's first institution of technology or technical university with tertiary technical education is the Banská Akadémia in Banská Štiavnica, Slovakia, founded in 1735, Academy since December 13, 1762 established by queen Maria Theresa in order to train specialists of silver and gold mining and metallurgy in neighbourhood. Teaching started in 1764. Later the department of Mathematics, Mechanics and Hydraulics and department of Forestry were settled. University buildings are still at their place today and are used for teaching. University has launched the first book of electrotechnics in the world.</td>\n",
       "      <td id=\"T_873e6_row0_col2\" class=\"data row0 col2\" >What year was the Banská Akadémia founded?</td>\n",
       "      <td id=\"T_873e6_row0_col3\" class=\"data row0 col3\" >1735</td>\n",
       "      <td id=\"T_873e6_row0_col4\" class=\"data row0 col4\" >What year was the Banská Akadémia, the world's first institution of technology, founded in Banská Štiavnica, Slovakia?</td>\n",
       "      <td id=\"T_873e6_row0_col5\" class=\"data row0 col5\" >The Banská Akadémia, the world's first institution of technology, was founded in 1735 in Banská Štiavnica, Slovakia.</td>\n",
       "      <td id=\"T_873e6_row0_col6\" class=\"data row0 col6\" >0.211984</td>\n",
       "    </tr>\n",
       "    <tr>\n",
       "      <td id=\"T_873e6_row1_col0\" class=\"data row1 col0\" >Film_speed</td>\n",
       "      <td id=\"T_873e6_row1_col1\" class=\"data row1 col1\" >The standard specifies how speed ratings should be reported by the camera. If the noise-based speed (40:1) is higher than the saturation-based speed, the noise-based speed should be reported, rounded downwards to a standard value (e.g. 200, 250, 320, or 400). The rationale is that exposure according to the lower saturation-based speed would not result in a visibly better image. In addition, an exposure latitude can be specified, ranging from the saturation-based speed to the 10:1 noise-based speed. If the noise-based speed (40:1) is lower than the saturation-based speed, or undefined because of high noise, the saturation-based speed is specified, rounded upwards to a standard value, because using the noise-based speed would lead to overexposed images. The camera may also report the SOS-based speed (explicitly as being an SOS speed), rounded to the nearest standard speed rating.</td>\n",
       "      <td id=\"T_873e6_row1_col2\" class=\"data row1 col2\" >What is another speed that can also be reported by the camera?</td>\n",
       "      <td id=\"T_873e6_row1_col3\" class=\"data row1 col3\" >SOS-based speed</td>\n",
       "      <td id=\"T_873e6_row1_col4\" class=\"data row1 col4\" >What is another speed, besides the noise-based and saturation-based speeds, that can also be reported by the camera according to the film speed standards?</td>\n",
       "      <td id=\"T_873e6_row1_col5\" class=\"data row1 col5\" >Another speed that can be reported by the camera according to film speed standards is the SOS-based speed.</td>\n",
       "      <td id=\"T_873e6_row1_col6\" class=\"data row1 col6\" >0.668879</td>\n",
       "    </tr>\n",
       "    <tr>\n",
       "      <td id=\"T_873e6_row2_col0\" class=\"data row2 col0\" >Sumer</td>\n",
       "      <td id=\"T_873e6_row2_col1\" class=\"data row2 col1\" >The most impressive and famous of Sumerian buildings are the ziggurats, large layered platforms which supported temples. Sumerian cylinder seals also depict houses built from reeds not unlike those built by the Marsh Arabs of Southern Iraq until as recently as 400 CE. The Sumerians also developed the arch, which enabled them to develop a strong type of dome. They built this by constructing and linking several arches. Sumerian temples and palaces made use of more advanced materials and techniques,[citation needed] such as buttresses, recesses, half columns, and clay nails.</td>\n",
       "      <td id=\"T_873e6_row2_col2\" class=\"data row2 col2\" >Where were the use of advanced materials and techniques on display in Sumer?</td>\n",
       "      <td id=\"T_873e6_row2_col3\" class=\"data row2 col3\" >Sumerian temples and palaces</td>\n",
       "      <td id=\"T_873e6_row2_col4\" class=\"data row2 col4\" >Where were the advanced materials and techniques, such as buttresses and arches, used in the construction of temples and palaces in Sumer?</td>\n",
       "      <td id=\"T_873e6_row2_col5\" class=\"data row2 col5\" >In Sumer, advanced materials and techniques such as buttresses and arches were used in the construction of temples and palaces.</td>\n",
       "      <td id=\"T_873e6_row2_col6\" class=\"data row2 col6\" >0.720199</td>\n",
       "    </tr>\n",
       "    <tr>\n",
       "      <td id=\"T_873e6_row3_col0\" class=\"data row3 col0\" >Ann_Arbor,_Michigan</td>\n",
       "      <td id=\"T_873e6_row3_col1\" class=\"data row3 col1\" >Ann Arbor has a council-manager form of government. The City Council has 11 voting members: the mayor and 10 city council members. The mayor and city council members serve two-year terms: the mayor is elected every even-numbered year, while half of the city council members are up for election annually (five in even-numbered and five in odd-numbered years). Two council members are elected from each of the city's five wards. The mayor is elected citywide. The mayor is the presiding officer of the City Council and has the power to appoint all Council committee members as well as board and commission members, with the approval of the City Council. The current mayor of Ann Arbor is Christopher Taylor, a Democrat who was elected as mayor in 2014. Day-to-day city operations are managed by a city administrator chosen by the city council.</td>\n",
       "      <td id=\"T_873e6_row3_col2\" class=\"data row3 col2\" >Who is elected every even numbered year?</td>\n",
       "      <td id=\"T_873e6_row3_col3\" class=\"data row3 col3\" >mayor</td>\n",
       "      <td id=\"T_873e6_row3_col4\" class=\"data row3 col4\" >Who is elected as mayor in Ann Arbor every even-numbered year?</td>\n",
       "      <td id=\"T_873e6_row3_col5\" class=\"data row3 col5\" >The mayor elected in Ann Arbor every even-numbered year is Christopher Taylor.</td>\n",
       "      <td id=\"T_873e6_row3_col6\" class=\"data row3 col6\" >0.436078</td>\n",
       "    </tr>\n",
       "    <tr>\n",
       "      <td id=\"T_873e6_row4_col0\" class=\"data row4 col0\" >John_von_Neumann</td>\n",
       "      <td id=\"T_873e6_row4_col1\" class=\"data row4 col1\" >Shortly before his death, when he was already quite ill, von Neumann headed the United States government's top secret ICBM committee, and it would sometimes meet in his home. Its purpose was to decide on the feasibility of building an ICBM large enough to carry a thermonuclear weapon. Von Neumann had long argued that while the technical obstacles were sizable, they could be overcome in time. The SM-65 Atlas passed its first fully functional test in 1959, two years after his death. The feasibility of an ICBM owed as much to improved, smaller warheads as it did to developments in rocketry, and his understanding of the former made his advice invaluable.</td>\n",
       "      <td id=\"T_873e6_row4_col2\" class=\"data row4 col2\" >What was the purpose of top secret ICBM committee?</td>\n",
       "      <td id=\"T_873e6_row4_col3\" class=\"data row4 col3\" >decide on the feasibility of building an ICBM large enough to carry a thermonuclear weapon</td>\n",
       "      <td id=\"T_873e6_row4_col4\" class=\"data row4 col4\" >What was the purpose of the top secret ICBM committee that John von Neumann headed shortly before his death?</td>\n",
       "      <td id=\"T_873e6_row4_col5\" class=\"data row4 col5\" >The purpose of the top secret ICBM committee headed by John von Neumann was to decide on the feasibility of building an ICBM large enough to carry a thermonuclear weapon.</td>\n",
       "      <td id=\"T_873e6_row4_col6\" class=\"data row4 col6\" >0.674016</td>\n",
       "    </tr>\n",
       "    <tr>\n",
       "      <td id=\"T_873e6_row5_col0\" class=\"data row5 col0\" >Pope_Paul_VI</td>\n",
       "      <td id=\"T_873e6_row5_col1\" class=\"data row5 col1\" >Some critiqued Paul VI's decision; the newly created Synod of Bishops had an advisory role only and could not make decisions on their own, although the Council decided exactly that. During the pontificate of Paul VI, five such synods took place, and he is on record of implementing all their decisions. Related questions were raised about the new National Bishop Conferences, which became mandatory after Vatican II. Others questioned his Ostpolitik and contacts with Communism and the deals he engaged in for the faithful.</td>\n",
       "      <td id=\"T_873e6_row5_col2\" class=\"data row5 col2\" >What conferences became a requirement after Vatican II?</td>\n",
       "      <td id=\"T_873e6_row5_col3\" class=\"data row5 col3\" >National Bishop Conferences</td>\n",
       "      <td id=\"T_873e6_row5_col4\" class=\"data row5 col4\" >What National Bishop Conferences became a requirement after Vatican II during the pontificate of Pope Paul VI?</td>\n",
       "      <td id=\"T_873e6_row5_col5\" class=\"data row5 col5\" >National Bishop Conferences became a requirement after Vatican II during the pontificate of Pope Paul VI.</td>\n",
       "      <td id=\"T_873e6_row5_col6\" class=\"data row5 col6\" >0.609849</td>\n",
       "    </tr>\n",
       "    <tr>\n",
       "      <td id=\"T_873e6_row6_col0\" class=\"data row6 col0\" >Spectre_(2015_film)</td>\n",
       "      <td id=\"T_873e6_row6_col1\" class=\"data row6 col1\" >Bond and Swann return to London where they meet M, Bill Tanner, Q, and Moneypenny; they intend to arrest C and stop Nine Eyes from going online. Swann leaves Bond, telling him she cannot be part of a life involving espionage, and is subsequently kidnapped. On the way, the group is ambushed and Bond is kidnapped, but the rest still proceed with the plan. After Q succeeds in preventing the Nine Eyes from going online, a brief struggle between M and C ends with the latter falling to his death. Meanwhile, Bond is taken to the old MI6 building, which is scheduled for demolition, and frees himself. Moving throughout the ruined labyrinth, he encounters a disfigured Blofeld, who tells him that he has three minutes to escape the building before explosives are detonated or die trying to save Swann. Bond finds Swann and the two escape by boat as the building collapses. Bond shoots down Blofeld's helicopter, which crashes onto Westminster Bridge. As Blofeld crawls away from the wreckage, Bond confronts him but ultimately leaves him to be arrested by M. Bond leaves the bridge with Swann.</td>\n",
       "      <td id=\"T_873e6_row6_col2\" class=\"data row6 col2\" >Who does M fight with?</td>\n",
       "      <td id=\"T_873e6_row6_col3\" class=\"data row6 col3\" >C</td>\n",
       "      <td id=\"T_873e6_row6_col4\" class=\"data row6 col4\" >Who does M struggle with during the events of the film Spectre (2015)?</td>\n",
       "      <td id=\"T_873e6_row6_col5\" class=\"data row6 col5\" >M struggles with C during the events of the film Spectre (2015).</td>\n",
       "      <td id=\"T_873e6_row6_col6\" class=\"data row6 col6\" >0.401223</td>\n",
       "    </tr>\n",
       "    <tr>\n",
       "      <td id=\"T_873e6_row7_col0\" class=\"data row7 col0\" >Antarctica</td>\n",
       "      <td id=\"T_873e6_row7_col1\" class=\"data row7 col1\" >About 1150 species of fungi have been recorded from Antarctica, of which about 750 are non-lichen-forming and 400 are lichen-forming. Some of these species are cryptoendoliths as a result of evolution under extreme conditions, and have significantly contributed to shaping the impressive rock formations of the McMurdo Dry Valleys and surrounding mountain ridges. The apparently simple morphology, scarcely differentiated structures, metabolic systems and enzymes still active at very low temperatures, and reduced life cycles shown by such fungi make them particularly suited to harsh environments such as the McMurdo Dry Valleys. In particular, their thick-walled and strongly melanized cells make them resistant to UV light. Those features can also be observed in algae and cyanobacteria, suggesting that these are adaptations to the conditions prevailing in Antarctica. This has led to speculation that, if life ever occurred on Mars, it might have looked similar to Antarctic fungi such as Cryomyces minteri. Some of these fungi are also apparently endemic to Antarctica. Endemic Antarctic fungi also include certain dung-inhabiting species which have had to evolve in response to the double challenge of extreme cold while growing on dung, and the need to survive passage through the gut of warm-blooded animals.</td>\n",
       "      <td id=\"T_873e6_row7_col2\" class=\"data row7 col2\" >How many species of fungi have been found on Antarctica?</td>\n",
       "      <td id=\"T_873e6_row7_col3\" class=\"data row7 col3\" >1150</td>\n",
       "      <td id=\"T_873e6_row7_col4\" class=\"data row7 col4\" >How many species of fungi have been recorded in Antarctica, including both non-lichen-forming and lichen-forming species?</td>\n",
       "      <td id=\"T_873e6_row7_col5\" class=\"data row7 col5\" >About 1150 species of fungi have been recorded in Antarctica, including both non-lichen-forming and lichen-forming species.</td>\n",
       "      <td id=\"T_873e6_row7_col6\" class=\"data row7 col6\" >-0.030656</td>\n",
       "    </tr>\n",
       "    <tr>\n",
       "      <td id=\"T_873e6_row8_col0\" class=\"data row8 col0\" >North_Carolina</td>\n",
       "      <td id=\"T_873e6_row8_col1\" class=\"data row8 col1\" >In the Battle of Cowan's Ford, Cornwallis met resistance along the banks of the Catawba River at Cowan's Ford on February 1, 1781, in an attempt to engage General Morgan's forces during a tactical withdrawal. Morgan had moved to the northern part of the state to combine with General Greene's newly recruited forces. Generals Greene and Cornwallis finally met at the Battle of Guilford Courthouse in present-day Greensboro on March 15, 1781. Although the British troops held the field at the end of the battle, their casualties at the hands of the numerically superior Continental Army were crippling. Following this \"Pyrrhic victory\", Cornwallis chose to move to the Virginia coastline to get reinforcements, and to allow the Royal Navy to protect his battered army. This decision would result in Cornwallis' eventual defeat at Yorktown, Virginia, later in 1781. The Patriots' victory there guaranteed American independence.</td>\n",
       "      <td id=\"T_873e6_row8_col2\" class=\"data row8 col2\" >After losing the battle of Guilford Courthouse, Cornawallis moved his troops where?</td>\n",
       "      <td id=\"T_873e6_row8_col3\" class=\"data row8 col3\" >Virginia coastline</td>\n",
       "      <td id=\"T_873e6_row8_col4\" class=\"data row8 col4\" >After losing the Battle of Guilford Courthouse, where did Cornwallis move his troops to seek reinforcements and protection from the Royal Navy?</td>\n",
       "      <td id=\"T_873e6_row8_col5\" class=\"data row8 col5\" >After losing the Battle of Guilford Courthouse, Cornwallis moved his troops to the Virginia coastline to seek reinforcements and protection from the Royal Navy.</td>\n",
       "      <td id=\"T_873e6_row8_col6\" class=\"data row8 col6\" >0.452992</td>\n",
       "    </tr>\n",
       "    <tr>\n",
       "      <td id=\"T_873e6_row9_col0\" class=\"data row9 col0\" >2008_Summer_Olympics_torch_relay</td>\n",
       "      <td id=\"T_873e6_row9_col1\" class=\"data row9 col1\" >The Olympic Torch is based on traditional scrolls and uses a traditional Chinese design known as \"Lucky Cloud\". It is made from aluminum. It is 72 centimetres high and weighs 985 grams. The torch is designed to remain lit in 65 kilometre per hour (37 mile per hour) winds, and in rain of up to 50 millimetres (2 inches) per hour. An ignition key is used to ignite and extinguish the flame. The torch is fueled by cans of propane. Each can will light the torch for 15 minutes. It is designed by a team from Lenovo Group. The Torch is designed in reference to the traditional Chinese concept of the 5 elements that make up the entire universe.</td>\n",
       "      <td id=\"T_873e6_row9_col2\" class=\"data row9 col2\" >What is the Olympic Torch made from?</td>\n",
       "      <td id=\"T_873e6_row9_col3\" class=\"data row9 col3\" >aluminum.</td>\n",
       "      <td id=\"T_873e6_row9_col4\" class=\"data row9 col4\" >What material is the Olympic Torch made from in the 2008 Summer Olympics torch relay?</td>\n",
       "      <td id=\"T_873e6_row9_col5\" class=\"data row9 col5\" >The Olympic Torch used in the 2008 Summer Olympics torch relay is made from aluminum.</td>\n",
       "      <td id=\"T_873e6_row9_col6\" class=\"data row9 col6\" >0.585265</td>\n",
       "    </tr>\n",
       "  </tbody>\n",
       "</table>\n"
      ],
      "text/plain": [
       "<pandas.io.formats.style.Styler at 0x3516a0290>"
      ]
     },
     "metadata": {},
     "output_type": "display_data"
    }
   ],
   "source": [
    "# Load and display all benchmarks\n",
    "def load_benchmarks():\n",
    "    benchmarks_dir = \"benchmarks\"\n",
    "    benchmarks = []\n",
    "    for file in os.listdir(benchmarks_dir):\n",
    "        if file.endswith(\".pkl\"):\n",
    "            df = pd.read_pickle(os.path.join(benchmarks_dir, file))\n",
    "            benchmarks.append({\n",
    "                'name': file.replace(\".pkl\", \"\"),\n",
    "                'data': df, \n",
    "                'mean_similarity': df['Similarity'].mean()\n",
    "            })\n",
    "    return benchmarks\n",
    "\n",
    "benchmarks = load_benchmarks()\n",
    "\n",
    "# Sort benchmarks by mean similarity\n",
    "benchmarks.sort(key=lambda x: x['mean_similarity'], reverse=True)\n",
    "\n",
    "for benchmark in benchmarks:\n",
    "    display(Markdown(f\"## {benchmark['name']}\"))\n",
    "    display(Markdown(f\"### Mean similarity: {round(benchmark['mean_similarity'], 2)}\"))\n",
    "    display_text_df(benchmark['data'])\n",
    "\n"
   ]
  },
  {
   "cell_type": "code",
   "execution_count": null,
   "metadata": {},
   "outputs": [],
   "source": []
  },
  {
   "cell_type": "code",
   "execution_count": null,
   "metadata": {},
   "outputs": [],
   "source": []
  }
 ],
 "metadata": {
  "kernelspec": {
   "display_name": "aai520",
   "language": "python",
   "name": "python3"
  },
  "language_info": {
   "codemirror_mode": {
    "name": "ipython",
    "version": 3
   },
   "file_extension": ".py",
   "mimetype": "text/x-python",
   "name": "python",
   "nbconvert_exporter": "python",
   "pygments_lexer": "ipython3",
   "version": "3.12.5"
  }
 },
 "nbformat": 4,
 "nbformat_minor": 2
}
